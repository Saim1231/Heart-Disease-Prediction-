{
 "cells": [
  {
   "cell_type": "code",
   "execution_count": 1,
   "id": "10112e1b",
   "metadata": {},
   "outputs": [
    {
     "name": "stdout",
     "output_type": "stream",
     "text": [
      "['63.jpg', '823.jpg', 'Untitled Folder', '189.jpg', '77.jpg', '837.jpg', '638.jpg', '604.jpg', '162.jpg', '176.jpg', '88.jpg', '610.jpg', '1179.jpg', 'Untitled68.ipynb', '1151.jpg', '1145.jpg', '348.jpg', '360.jpg', '406.jpg', '1192.jpg', '1186.jpg', '412.jpg', '374.jpg', '1019.jpg', '599.jpg', '1025.jpg', '1031.jpg', '228.jpg', 'Untitled55.ipynb', 'Untitled10.ipynb', '214.jpg', '572.jpg', '566.jpg', '200.jpg', '957.jpg', '.Rhistory', '943.jpg', 'Untitled7.ipynb', '994.jpg', '758.jpg', '980.jpg', '770.jpg', '764.jpg', '.eclipse', '765.jpg', '771.jpg', '.config', '981.jpg', '759.jpg', '995.jpg', 'Untitled71.ipynb', 'Untitled34.ipynb', 'Music', '942.jpg', '956.jpg', '567.jpg', '201.jpg', '215.jpg', '573.jpg', '229.jpg', '1030.jpg', '1024.jpg', '598.jpg', '1018.jpg', '413.jpg', '1187.jpg', '375.jpg', '361.jpg', '1193.jpg', '407.jpg', '349.jpg', '1144.jpg', '1150.jpg', '1178.jpg', '177.jpg', '611.jpg', '89.jpg', '605.jpg', '163.jpg', '639.jpg', '188.jpg', '836.jpg', '76.jpg', '822.jpg', '62.jpg', '74.jpg', '834.jpg', '60.jpg', '820.jpg', 'poker-hand-testing.data', '48.jpg', '808.jpg', '149.jpg', '613.jpg', '175.jpg', '161.jpg', 'Xtrain.csv', '607.jpg', '388.jpg', '1146.jpg', '1152.jpg', '439.jpg', '377.jpg', '1185.jpg', '411.jpg', '405.jpg', '1191.jpg', '.condarc', '363.jpg', '1032.jpg', '1026.jpg', '559.jpg', 'Untitled36.ipynb', '203.jpg', '565.jpg', '571.jpg', '217.jpg', '940.jpg', '798.jpg', '954.jpg', '968.jpg', '983.jpg', 'data.hdt5', '997.jpg', '767.jpg', '773.jpg', '.openshot_qt', '772.jpg', '766.jpg', '996.jpg', 'Untitled57.ipynb', '982.jpg', 'Untitled12.ipynb', '969.jpg', '955.jpg', '799.jpg', '941.jpg', '570.jpg', '216.jpg', '202.jpg', '564.jpg', 'wisdmdataset_research.ipynb', '558.jpg', 'Untitled5.ipynb', '1027.jpg', '1033.jpg', '1190.jpg', '404.jpg', '362.jpg', '376.jpg', '410.jpg', '1184.jpg', '438.jpg', '1153.jpg', '1147.jpg', '389.jpg', '160.jpg', '606.jpg', '612.jpg', '174.jpg', '148.jpg', '809.jpg', '49.jpg', '821.jpg', '61.jpg', '835.jpg', '75.jpg', 'Untitled1.ipynb', '59.jpg', '819.jpg', '71.jpg', '831.jpg', '65.jpg', '825.jpg', '170.jpg', '616.jpg', '602.jpg', '164.jpg', '.dart', '158.jpg', '1143.jpg', '1157.jpg', '399.jpg', '1180.jpg', '414.jpg', '372.jpg', '366.jpg', '400.jpg', '1194.jpg', '428.jpg', 'Untitled53.ipynb', 'Untitled16.ipynb', '1037.jpg', '1023.jpg', '560.jpg', '206.jpg', '212.jpg', '574.jpg', '548.jpg', '979.jpg', '.DS_Store', '945.jpg', '1209.jpg', '951.jpg', '789.jpg', 'eclipse', '762.jpg', '776.jpg', 'nltk_data', '986.jpg', '992.jpg', '993.jpg', 'tensor flow Bisma.ipynb', '987.jpg', '777.jpg', '763.jpg', '788.jpg', '950.jpg', '1208.jpg', '944.jpg', 'dataset_practice.ipynb', '978.jpg', '549.jpg', '213.jpg', '575.jpg', '561.jpg', '207.jpg', '1022.jpg', '1036.jpg', '429.jpg', '367.jpg', 'data.hdf5', '1195.jpg', '401.jpg', '415.jpg', '1181.jpg', '373.jpg', '398.jpg', '1156.jpg', '1142.jpg', '159.jpg', 'Untitled32.ipynb', '603.jpg', '165.jpg', '171.jpg', '617.jpg', '824.jpg', '64.jpg', '830.jpg', '70.jpg', '818.jpg', '58.jpg', '8.jpg', '198.jpg', '66.jpg', '826.jpg', '72.jpg', '832.jpg', 'country_vaccinations.csv', '167.jpg', '601.jpg', '99.jpg', '615.jpg', '173.jpg', '629.jpg', '.CFUserTextEncoding', '1154.jpg', '1140.jpg', '1168.jpg', 'realwordhardataset_research.ipynb', '403.jpg', '1197.jpg', '365.jpg', '371.jpg', '1183.jpg', '417.jpg', '359.jpg', 'Untitled30.ipynb', '1020.jpg', '1034.jpg', '588.jpg', '1008.jpg', 'Untitled48.ipynb', '577.jpg', '211.jpg', '205.jpg', '563.jpg', '239.jpg', '.tooling', '952.jpg', '946.jpg', '775.jpg', '761.jpg', 'bin', '749.jpg', '991.jpg', '985.jpg', '984.jpg', '990.jpg', '748.jpg', '760.jpg', '774.jpg', '947.jpg', 'Untitled29.ipynb', '953.jpg', '238.jpg', '204.jpg', '562.jpg', '576.jpg', '210.jpg', '1009.jpg', '589.jpg', '1035.jpg', '1021.jpg', '358.jpg', '370.jpg', '416.jpg', '1182.jpg', '1196.jpg', '402.jpg', '364.jpg', '1169.jpg', 'Untitled3.ipynb', '1141.jpg', '1155.jpg', '628.jpg', 'markers.jpg', 'Untitled51.ipynb', 'Untitled14.ipynb', '614.jpg', '172.jpg', '166.jpg', '98.jpg', '600.jpg', '833.jpg', '73.jpg', '199.jpg', '827.jpg', '67.jpg', '9.jpg', '698.jpg', '840.jpg', '14.jpg', '854.jpg', '28.jpg', '868.jpg', '883.jpg', '897.jpg', '129.jpg', '101.jpg', 'Untitled.ipynb', '667.jpg', '673.jpg', '115.jpg', '1132.jpg', '1126.jpg', '459.jpg', '.zshrc.swo', 'Untitled37.ipynb', 'Untitled72.ipynb', '465.jpg', '303.jpg', '317.jpg', '471.jpg', '288.jpg', '.zshrc', '1046.jpg', '1052.jpg', '539.jpg', '511.jpg', '1085.jpg', 'nlp_project.ipynb', '277.jpg', '263.jpg', '1091.jpg', '505.jpg', '934.jpg', '920.jpg', '908.jpg', '713.jpg', '707.jpg', '706.jpg', '712.jpg', '909.jpg', '921.jpg', '935.jpg', '262.jpg', '504.jpg', '1090.jpg', '1084.jpg', '510.jpg', '276.jpg', '538.jpg', '1053.jpg', '1047.jpg', '289.jpg', '316.jpg', '470.jpg', '464.jpg', '302.jpg', '458.jpg', 'Untitled4.ipynb', '1127.jpg', '1133.jpg', '672.jpg', '114.jpg', 'myresearch.ipynb', '.local', '100.jpg', '666.jpg', '896.jpg', '128.jpg', 'Untitled13.ipynb', 'Untitled56.ipynb', '882.jpg', '869.jpg', '29.jpg', '855.jpg', '15.jpg', '841.jpg', '699.jpg', '17.jpg', '857.jpg', '843.jpg', 'Untitled6.ipynb', '894.jpg', '880.jpg', '658.jpg', '116.jpg', '670.jpg', '664.jpg', '102.jpg', '1119.jpg', 'Pictures', '499.jpg', '1125.jpg', '1131.jpg', '328.jpg', 'Untitled11.ipynb', 'Untitled54.ipynb', '472.jpg', '314.jpg', '300.jpg', '466.jpg', 'Untitled69.ipynb', '1079.jpg', '1051.jpg', '1045.jpg', '248.jpg', '1092.jpg', '506.jpg', '260.jpg', '274.jpg', '512.jpg', '1086.jpg', '923.jpg', '937.jpg', 'nlp_bisma.ipynb', 'task1_output.png', '738.jpg', '704.jpg', '.fontconfig', '710.jpg', '711.jpg', 'gps_extrasensorydata.ipynb', '705.jpg', '739.jpg', '936.jpg', '922.jpg', '275.jpg', '1087.jpg', '513.jpg', '507.jpg', '1093.jpg', '261.jpg', '249.jpg', 'Bismauiucsegmentation.ipynb', '1044.jpg', '1050.jpg', '1078.jpg', '301.jpg', '467.jpg', '473.jpg', '315.jpg', '329.jpg', '.dartServer', '1130.jpg', '1124.jpg', '498.jpg', '1118.jpg', '665.jpg', '103.jpg', '117.jpg', '671.jpg', '659.jpg', '881.jpg', 'Untitled35.ipynb', 'Untitled70.ipynb', '895.jpg', '842.jpg', '856.jpg', '16.jpg', 'Xtest_features.csv', '12.jpg', '852.jpg', '.pub-cache', '846.jpg', '675.jpg', '113.jpg', '107.jpg', '661.jpg', '891.jpg', '649.jpg', '885.jpg', '1120.jpg', 'java_error_in_pycharm_14776.log', '1134.jpg', '488.jpg', '1108.jpg', 'Untitled49.ipynb', '311.jpg', '477.jpg', '463.jpg', '305.jpg', '339.jpg', '1054.jpg', 'features.ipynb', '1040.jpg', '1068.jpg', '265.jpg', '1097.jpg', '503.jpg', '517.jpg', '1083.jpg', '271.jpg', '259.jpg', 'Untitled31.ipynb', '926.jpg', '932.jpg', '701.jpg', '715.jpg', '729.jpg', '728.jpg', 'Untitled15.ipynb', 'Untitled50.ipynb', '.flutter_tool_state', '714.jpg', '700.jpg', '933.jpg', '927.jpg', '258.jpg', '1082.jpg', '516.jpg', '270.jpg', '264.jpg', '502.jpg', '1096.jpg', '.zsh_history', '1069.jpg', '1041.jpg', 'Untitled2.ipynb', '.p2', '1055.jpg', '.ipython', '338.jpg', '462.jpg', '304.jpg', '310.jpg', '476.jpg', '1109.jpg', 'Desktop', '489.jpg', '1135.jpg', '1121.jpg', 'Library', '884.jpg', '648.jpg', '890.jpg', '106.jpg', '660.jpg', 'eclipse-workspace', '674.jpg', '112.jpg', '847.jpg', '853.jpg', '13.jpg', 'Untitled28.ipynb', '.matplotlib', '39.jpg', '879.jpg', '845.jpg', '689.jpg', '11.jpg', '851.jpg', '662.jpg', '104.jpg', '110.jpg', '676.jpg', '886.jpg', '138.jpg', 'diet', '892.jpg', '1137.jpg', '1123.jpg', '306.jpg', '460.jpg', '474.jpg', '312.jpg', '448.jpg', 'poker-hand-training-true.data', 'blood', 'bismawork.ipynb', '1043.jpg', '1057.jpg', '299.jpg', '272.jpg', '514.jpg', '1080.jpg', '1094.jpg', '500.jpg', '266.jpg', '.fb-adb', '528.jpg', 'Untitled17.ipynb', 'Untitled52.ipynb', '919.jpg', '931.jpg', '925.jpg', '716.jpg', '702.jpg', 'Untitled33.ipynb', '703.jpg', '717.jpg', '924.jpg', '930.jpg', '918.jpg', '.emulator_console_auth_token', 'Parallels', '529.jpg', '501.jpg', '1095.jpg', '.spyder-py3', '267.jpg', '273.jpg', '1081.jpg', '515.jpg', '298.jpg', '1056.jpg', '1042.jpg', '\\u2068Library', '449.jpg', '475.jpg', '313.jpg', '307.jpg', '461.jpg', '1122.jpg', '1136.jpg', '893.jpg', '887.jpg', '139.jpg', '111.jpg', '677.jpg', '663.jpg', '105.jpg', '850.jpg', '10.jpg', '688.jpg', '844.jpg', '878.jpg', '38.jpg', '21.jpg', '861.jpg', '35.jpg', '875.jpg', '685.jpg', '691.jpg', '849.jpg', 'seaborn-data', '108.jpg', '120.jpg', 'shopper_project.R', '646.jpg', '652.jpg', '134.jpg', '1113.jpg', '487.jpg', '493.jpg', '1107.jpg', '478.jpg', 'Untitled47.ipynb', '444.jpg', '322.jpg', '336.jpg', '450.jpg', '1067.jpg', '295.jpg', '281.jpg', '1073.jpg', '1098.jpg', '518.jpg', '530.jpg', '256.jpg', '242.jpg', '524.jpg', '915.jpg', '.android', '901.jpg', '929.jpg', 'android-sdks', '732.jpg', '.cocoapods', '726.jpg', '727.jpg', '.easeus', '733.jpg', '928.jpg', '900.jpg', '914.jpg', '243.jpg', '525.jpg', '531.jpg', '257.jpg', '519.jpg', '1099.jpg', '280.jpg', '1072.jpg', '1066.jpg', '294.jpg', '337.jpg', '451.jpg', '445.jpg', '.bash_sessions', '323.jpg', '479.jpg', '1106.jpg', '492.jpg', '486.jpg', '1112.jpg', 'flutter', '.DDPreview', '653.jpg', 'Untitled63.ipynb', 'Untitled26.ipynb', '135.jpg', '121.jpg', 'java_error_in_studio.hprof', '647.jpg', '109.jpg', '848.jpg', '690.jpg', '684.jpg', '874.jpg', '34.jpg', 'hack_nohack_prediction.ipynb', '860.jpg', '20.jpg', '36.jpg', '876.jpg', '22.jpg', '862.jpg', '692.jpg', '686.jpg', '679.jpg', '137.jpg', '889.jpg', '651.jpg', '645.jpg', '123.jpg', '1138.jpg', '490.jpg', '1104.jpg', '1110.jpg', '484.jpg', '309.jpg', '453.jpg', 'Untitled61.ipynb', 'Untitled24.ipynb', '335.jpg', '321.jpg', '447.jpg', '1058.jpg', '1070.jpg', 'Untitled19.ipynb', '282.jpg', '296.jpg', '1064.jpg', '269.jpg', '527.jpg', '241.jpg', '255.jpg', '533.jpg', '902.jpg', '916.jpg', 'PycharmProjects', 'Public', '719.jpg', '725.jpg', '731.jpg', '730.jpg', '724.jpg', 'buildozer', 'admin.py', '718.jpg', '917.jpg', '903.jpg', '254.jpg', '532.jpg', '526.jpg', '240.jpg', '268.jpg', '297.jpg', '1065.jpg', '1071.jpg', 'Uber dataset analysis.ipynb', '283.jpg', '1059.jpg', '320.jpg', '446.jpg', '452.jpg', '334.jpg', 'Data Science assignment.ipynb', '308.jpg', '485.jpg', '1111.jpg', '1105.jpg', '491.jpg', '1139.jpg', 'Untitled45.ipynb', '644.jpg', '122.jpg', '136.jpg', '650.jpg', '888.jpg', '678.jpg', '687.jpg', 'labels.hdt5', '693.jpg', '863.jpg', '23.jpg', '877.jpg', '37.jpg', '697.jpg', '.idlerc', '683.jpg', '33.jpg', '873.jpg', '27.jpg', '867.jpg', '654.jpg', '132.jpg', '126.jpg', '898.jpg', '640.jpg', '668.jpg', 'Untitled39.ipynb', '495.jpg', '1101.jpg', '1115.jpg', '481.jpg', '1129.jpg', '330.jpg', '456.jpg', '.flutter', '442.jpg', '324.jpg', '.vysor', '318.jpg', '287.jpg', '1075.jpg', '1061.jpg', '293.jpg', '1049.jpg', 'labels.hdf5', 'Untitled41.ipynb', '244.jpg', '522.jpg', '536.jpg', '250.jpg', '278.jpg', '.RData', '907.jpg', '913.jpg', '720.jpg', '734.jpg', '708.jpg', '709.jpg', 'Untitled65.ipynb', 'Untitled20.ipynb', '735.jpg', '721.jpg', '912.jpg', '906.jpg', '279.jpg', '537.jpg', '251.jpg', '245.jpg', '523.jpg', '1048.jpg', '1060.jpg', '292.jpg', 'spam_model', '286.jpg', '1074.jpg', '319.jpg', '443.jpg', '325.jpg', '331.jpg', '457.jpg', '1128.jpg', '480.jpg', '1114.jpg', '1100.jpg', '494.jpg', '.anaconda', '669.jpg', '127.jpg', '641.jpg', '899.jpg', '655.jpg', '133.jpg', '866.jpg', '26.jpg', '872.jpg', '32.jpg', '682.jpg', 'Untitled58.ipynb', '696.jpg', '680.jpg', '18.jpg', '858.jpg', '694.jpg', '24.jpg', '864.jpg', '30.jpg', '870.jpg', '643.jpg', '125.jpg', '131.jpg', '657.jpg', '119.jpg', 'Untitled8.ipynb', '1116.jpg', '482.jpg', '496.jpg', '1102.jpg', '.ssh', 'StudioProjects', '327.jpg', '441.jpg', 'Applications (Parallels)', '455.jpg', '333.jpg', 'Movies', '469.jpg', '290.jpg', '1062.jpg', 'Applications', '1076.jpg', '284.jpg', '253.jpg', 'Untitled67.ipynb', 'Untitled22.ipynb', '535.jpg', '521.jpg', '.gradle', '247.jpg', '509.jpg', '1089.jpg', '938.jpg', '.flutter-devtools', '910.jpg', '904.jpg', '737.jpg', '723.jpg', 'Untitled43.ipynb', '722.jpg', '736.jpg', '905.jpg', '911.jpg', '939.jpg', '.Rapp.history', '1088.jpg', '508.jpg', '520.jpg', '246.jpg', '252.jpg', '534.jpg', '1077.jpg', '285.jpg', '291.jpg', '1063.jpg', '468.jpg', 'opt', '454.jpg', '332.jpg', '326.jpg', '440.jpg', '1103.jpg', '497.jpg', '.Trash', '483.jpg', '1117.jpg', '118.jpg', '130.jpg', '656.jpg', '642.jpg', '124.jpg', '871.jpg', '31.jpg', '865.jpg', '25.jpg', '695.jpg', '859.jpg', '19.jpg', '681.jpg', '42.jpg', '802.jpg', '4.jpg', '56.jpg', '816.jpg', '180.jpg', '194.jpg', '81.jpg', '619.jpg', '95.jpg', '625.jpg', '143.jpg', '157.jpg', '631.jpg', '1158.jpg', 'winemag-data-130k-v2.csv', '382.jpg', '.ipynb_checkpoints', 'Untitled18.ipynb', '1170.jpg', '.zshrc.swp', '1164.jpg', '396.jpg', '369.jpg', '341.jpg', '427.jpg', '433.jpg', '355.jpg', '1038.jpg', '1004.jpg', '590.jpg', '584.jpg', '1010.jpg', '.jupyter', '209.jpg', 'Untitled25.ipynb', '235.jpg', 'Untitled60.ipynb', '553.jpg', '.keras', '547.jpg', '221.jpg', '976.jpg', '962.jpg', '792.jpg', '1206.jpg', '1212.jpg', '786.jpg', '779.jpg', '751.jpg', '989.jpg', '745.jpg', 'Untitled44.ipynb', '744.jpg', '988.jpg', '750.jpg', '778.jpg', '787.jpg', '1213.jpg', '1207.jpg', '793.jpg', '963.jpg', '977.jpg', '546.jpg', '220.jpg', '234.jpg', '552.jpg', '208.jpg', 'Documents', '1011.jpg', '585.jpg', '591.jpg', '1005.jpg', '1039.jpg', '432.jpg', '354.jpg', '340.jpg', '426.jpg', '368.jpg', '.anydesk', '1165.jpg', '397.jpg', '383.jpg', '1171.jpg', '1159.jpg', '156.jpg', '630.jpg', '624.jpg', 'researchpractice.ipynb', '142.jpg', '94.jpg', '618.jpg', '80.jpg', '195.jpg', '.markdownNavigator', '181.jpg', '5.jpg', '817.jpg', '57.jpg', '803.jpg', '43.jpg', '55.jpg', '815.jpg', '7.jpg', '41.jpg', '801.jpg', '69.jpg', '829.jpg', '197.jpg', '183.jpg', '96.jpg', '168.jpg', '82.jpg', '632.jpg', 'eda_project.ipynb', '154.jpg', '140.jpg', '626.jpg', '395.jpg', '1167.jpg', '1173.jpg', '381.jpg', '1198.jpg', '418.jpg', '.rstudio-desktop', '356.jpg', '430.jpg', '424.jpg', '342.jpg', '587.jpg', '1013.jpg', '1007.jpg', '593.jpg', 'heart_desease_prediction.ipynb', '578.jpg', '222.jpg', 'Untitled46.ipynb', '544.jpg', '550.jpg', '236.jpg', '961.jpg', '.mono', '975.jpg', '.vscode', '1211.jpg', '785.jpg', '949.jpg', '791.jpg', '1205.jpg', '746.jpg', '752.jpg', 'Untitled27.ipynb', '.m2', 'Untitled62.ipynb', '753.jpg', '747.jpg', '1204.jpg', '790.jpg', '948.jpg', '784.jpg', '1210.jpg', '974.jpg', '960.jpg', '551.jpg', '237.jpg', '.bash_profile', '223.jpg', '545.jpg', '579.jpg', '592.jpg', '1006.jpg', '1012.jpg', '586.jpg', 'project.R', '425.jpg', '343.jpg', '357.jpg', '431.jpg', '419.jpg', '1199.jpg', '1172.jpg', '380.jpg', '394.jpg', '1166.jpg', 'AndroidStudioProjects', '141.jpg', '627.jpg', '633.jpg', '155.jpg', '83.jpg', '97.jpg', '169.jpg', '182.jpg', 'NLP ASSIGNMENT.ipynb', '828.jpg', '68.jpg', '196.jpg', '800.jpg', '40.jpg', '814.jpg', '54.jpg', 'keras_model.h5', '6.jpg', '192.jpg', '78.jpg', '838.jpg', '186.jpg', '2.jpg', '50.jpg', '810.jpg', '44.jpg', '804.jpg', '151.jpg', '637.jpg', '623.jpg', '145.jpg', 'Downloads', 'articleresearch.ipynb', '.python_history', '93.jpg', '87.jpg', '179.jpg', 'java_error_in_pycharm.hprof', '1162.jpg', '.DDLocalBackups', '390.jpg', '384.jpg', '1176.jpg', 'Untitled23.ipynb', '.continuum', '.cache', '435.jpg', 'Untitled66.ipynb', '353.jpg', '347.jpg', '421.jpg', '409.jpg', '1189.jpg', '582.jpg', '1016.jpg', 'reducing_cnn.ipynb', '1002.jpg', '596.jpg', '.gitconfig', '541.jpg', '227.jpg', '233.jpg', '555.jpg', '569.jpg', '958.jpg', '1214.jpg', '780.jpg', '794.jpg', '1200.jpg', '964.jpg', '970.jpg', '743.jpg', '757.jpg', 'Untitled9.ipynb', '756.jpg', '742.jpg', '971.jpg', 'multivariate .ipynb', '965.jpg', '1201.jpg', '795.jpg', 'demand_prediction.ipynb', '781.jpg', '1215.jpg', '959.jpg', '568.jpg', '232.jpg', '554.jpg', '540.jpg', '226.jpg', '597.jpg', '1003.jpg', '1017.jpg', '583.jpg', '1188.jpg', '408.jpg', 'insta.py', '346.jpg', '420.jpg', '434.jpg', '352.jpg', '385.jpg', '1177.jpg', '1163.jpg', '391.jpg', '86.jpg', '178.jpg', '92.jpg', '622.jpg', 'Untitled42.ipynb', '144.jpg', '150.jpg', '636.jpg', '805.jpg', '45.jpg', '.bash_history', '3.jpg', '811.jpg', '51.jpg', '839.jpg', '79.jpg', '187.jpg', '193.jpg', '.viminfo', '185.jpg', '.zsh_sessions', '191.jpg', '47.jpg', '807.jpg', '53.jpg', '813.jpg', '1.jpg', '146.jpg', '620.jpg', '634.jpg', '152.jpg', '84.jpg', '608.jpg', '90.jpg', '1175.jpg', '387.jpg', '393.jpg', '1161.jpg', '1149.jpg', 'git', '422.jpg', 'Untitled40.ipynb', '344.jpg', '350.jpg', '436.jpg', '378.jpg', '1001.jpg', '595.jpg', 'Untitled38.ipynb', '581.jpg', '1015.jpg', '1029.jpg', '556.jpg', '230.jpg', '224.jpg', '542.jpg', '218.jpg', '797.jpg', '1203.jpg', '1217.jpg', '783.jpg', '973.jpg', '967.jpg', '754.jpg', '.conda', '740.jpg', '998.jpg', 'fiverr.ipynb', '768.jpg', 'semantic_segmentation', '769.jpg', 'FluuterProjects', '999.jpg', '741.jpg', '755.jpg', '966.jpg', '972.jpg', '782.jpg', '1216.jpg', 'Untitled59.ipynb', '1202.jpg', '796.jpg', '219.jpg', '225.jpg', '543.jpg', '557.jpg', '231.jpg', 'Real world har .ipynb', '1028.jpg', '1014.jpg', '580.jpg', '594.jpg', '1000.jpg', 'extrasensory dataset research.ipynb', '379.jpg', '351.jpg', '437.jpg', '423.jpg', '345.jpg', '1148.jpg', '392.jpg', '1160.jpg', '1174.jpg', '386.jpg', '91.jpg', '609.jpg', '85.jpg', 'Untitled21.ipynb', '635.jpg', 'Untitled64.ipynb', '153.jpg', '147.jpg', '621.jpg', '812.jpg', '52.jpg', '806.jpg', '46.jpg', '190.jpg', '184.jpg']\n"
     ]
    }
   ],
   "source": [
    "import numpy as np\n",
    "import pandas as pd\n",
    "import matplotlib.pyplot as plt\n",
    "import seaborn as sns\n",
    "\n",
    "%matplotlib inline\n",
    "\n",
    "import os\n",
    "print(os.listdir())\n",
    "\n",
    "import warnings\n",
    "warnings.filterwarnings('ignore')"
   ]
  },
  {
   "cell_type": "markdown",
   "id": "c601cfc1",
   "metadata": {},
   "source": [
    "# II. Importing and understanding our dataset"
   ]
  },
  {
   "cell_type": "code",
   "execution_count": 2,
   "id": "91299c63",
   "metadata": {},
   "outputs": [],
   "source": [
    "dataset = pd.read_csv(\"/Users/user/Desktop/heart.csv\")"
   ]
  },
  {
   "cell_type": "markdown",
   "id": "058f3bbd",
   "metadata": {},
   "source": [
    "# Shape of dataset"
   ]
  },
  {
   "cell_type": "code",
   "execution_count": 3,
   "id": "aa9e3f12",
   "metadata": {},
   "outputs": [
    {
     "data": {
      "text/plain": [
       "(1025, 14)"
      ]
     },
     "execution_count": 3,
     "metadata": {},
     "output_type": "execute_result"
    }
   ],
   "source": [
    "dataset.shape"
   ]
  },
  {
   "cell_type": "code",
   "execution_count": 4,
   "id": "afc2293f",
   "metadata": {},
   "outputs": [
    {
     "data": {
      "text/html": [
       "<div>\n",
       "<style scoped>\n",
       "    .dataframe tbody tr th:only-of-type {\n",
       "        vertical-align: middle;\n",
       "    }\n",
       "\n",
       "    .dataframe tbody tr th {\n",
       "        vertical-align: top;\n",
       "    }\n",
       "\n",
       "    .dataframe thead th {\n",
       "        text-align: right;\n",
       "    }\n",
       "</style>\n",
       "<table border=\"1\" class=\"dataframe\">\n",
       "  <thead>\n",
       "    <tr style=\"text-align: right;\">\n",
       "      <th></th>\n",
       "      <th>age</th>\n",
       "      <th>sex</th>\n",
       "      <th>cp</th>\n",
       "      <th>trestbps</th>\n",
       "      <th>chol</th>\n",
       "      <th>fbs</th>\n",
       "      <th>restecg</th>\n",
       "      <th>thalach</th>\n",
       "      <th>exang</th>\n",
       "      <th>oldpeak</th>\n",
       "      <th>slope</th>\n",
       "      <th>ca</th>\n",
       "      <th>thal</th>\n",
       "      <th>target</th>\n",
       "    </tr>\n",
       "  </thead>\n",
       "  <tbody>\n",
       "    <tr>\n",
       "      <th>0</th>\n",
       "      <td>52</td>\n",
       "      <td>1</td>\n",
       "      <td>0</td>\n",
       "      <td>125</td>\n",
       "      <td>212</td>\n",
       "      <td>0</td>\n",
       "      <td>1</td>\n",
       "      <td>168</td>\n",
       "      <td>0</td>\n",
       "      <td>1.0</td>\n",
       "      <td>2</td>\n",
       "      <td>2</td>\n",
       "      <td>3</td>\n",
       "      <td>0</td>\n",
       "    </tr>\n",
       "    <tr>\n",
       "      <th>1</th>\n",
       "      <td>53</td>\n",
       "      <td>1</td>\n",
       "      <td>0</td>\n",
       "      <td>140</td>\n",
       "      <td>203</td>\n",
       "      <td>1</td>\n",
       "      <td>0</td>\n",
       "      <td>155</td>\n",
       "      <td>1</td>\n",
       "      <td>3.1</td>\n",
       "      <td>0</td>\n",
       "      <td>0</td>\n",
       "      <td>3</td>\n",
       "      <td>0</td>\n",
       "    </tr>\n",
       "    <tr>\n",
       "      <th>2</th>\n",
       "      <td>70</td>\n",
       "      <td>1</td>\n",
       "      <td>0</td>\n",
       "      <td>145</td>\n",
       "      <td>174</td>\n",
       "      <td>0</td>\n",
       "      <td>1</td>\n",
       "      <td>125</td>\n",
       "      <td>1</td>\n",
       "      <td>2.6</td>\n",
       "      <td>0</td>\n",
       "      <td>0</td>\n",
       "      <td>3</td>\n",
       "      <td>0</td>\n",
       "    </tr>\n",
       "    <tr>\n",
       "      <th>3</th>\n",
       "      <td>61</td>\n",
       "      <td>1</td>\n",
       "      <td>0</td>\n",
       "      <td>148</td>\n",
       "      <td>203</td>\n",
       "      <td>0</td>\n",
       "      <td>1</td>\n",
       "      <td>161</td>\n",
       "      <td>0</td>\n",
       "      <td>0.0</td>\n",
       "      <td>2</td>\n",
       "      <td>1</td>\n",
       "      <td>3</td>\n",
       "      <td>0</td>\n",
       "    </tr>\n",
       "    <tr>\n",
       "      <th>4</th>\n",
       "      <td>62</td>\n",
       "      <td>0</td>\n",
       "      <td>0</td>\n",
       "      <td>138</td>\n",
       "      <td>294</td>\n",
       "      <td>1</td>\n",
       "      <td>1</td>\n",
       "      <td>106</td>\n",
       "      <td>0</td>\n",
       "      <td>1.9</td>\n",
       "      <td>1</td>\n",
       "      <td>3</td>\n",
       "      <td>2</td>\n",
       "      <td>0</td>\n",
       "    </tr>\n",
       "  </tbody>\n",
       "</table>\n",
       "</div>"
      ],
      "text/plain": [
       "   age  sex  cp  trestbps  chol  fbs  restecg  thalach  exang  oldpeak  slope  \\\n",
       "0   52    1   0       125   212    0        1      168      0      1.0      2   \n",
       "1   53    1   0       140   203    1        0      155      1      3.1      0   \n",
       "2   70    1   0       145   174    0        1      125      1      2.6      0   \n",
       "3   61    1   0       148   203    0        1      161      0      0.0      2   \n",
       "4   62    0   0       138   294    1        1      106      0      1.9      1   \n",
       "\n",
       "   ca  thal  target  \n",
       "0   2     3       0  \n",
       "1   0     3       0  \n",
       "2   0     3       0  \n",
       "3   1     3       0  \n",
       "4   3     2       0  "
      ]
     },
     "execution_count": 4,
     "metadata": {},
     "output_type": "execute_result"
    }
   ],
   "source": [
    "#prinitng some columns \n",
    "dataset.head(5)"
   ]
  },
  {
   "cell_type": "code",
   "execution_count": 5,
   "id": "5d728198",
   "metadata": {},
   "outputs": [
    {
     "data": {
      "text/html": [
       "<div>\n",
       "<style scoped>\n",
       "    .dataframe tbody tr th:only-of-type {\n",
       "        vertical-align: middle;\n",
       "    }\n",
       "\n",
       "    .dataframe tbody tr th {\n",
       "        vertical-align: top;\n",
       "    }\n",
       "\n",
       "    .dataframe thead th {\n",
       "        text-align: right;\n",
       "    }\n",
       "</style>\n",
       "<table border=\"1\" class=\"dataframe\">\n",
       "  <thead>\n",
       "    <tr style=\"text-align: right;\">\n",
       "      <th></th>\n",
       "      <th>age</th>\n",
       "      <th>sex</th>\n",
       "      <th>cp</th>\n",
       "      <th>trestbps</th>\n",
       "      <th>chol</th>\n",
       "      <th>fbs</th>\n",
       "      <th>restecg</th>\n",
       "      <th>thalach</th>\n",
       "      <th>exang</th>\n",
       "      <th>oldpeak</th>\n",
       "      <th>slope</th>\n",
       "      <th>ca</th>\n",
       "      <th>thal</th>\n",
       "      <th>target</th>\n",
       "    </tr>\n",
       "  </thead>\n",
       "  <tbody>\n",
       "    <tr>\n",
       "      <th>count</th>\n",
       "      <td>1025.000000</td>\n",
       "      <td>1025.000000</td>\n",
       "      <td>1025.000000</td>\n",
       "      <td>1025.000000</td>\n",
       "      <td>1025.00000</td>\n",
       "      <td>1025.000000</td>\n",
       "      <td>1025.000000</td>\n",
       "      <td>1025.000000</td>\n",
       "      <td>1025.000000</td>\n",
       "      <td>1025.000000</td>\n",
       "      <td>1025.000000</td>\n",
       "      <td>1025.000000</td>\n",
       "      <td>1025.000000</td>\n",
       "      <td>1025.000000</td>\n",
       "    </tr>\n",
       "    <tr>\n",
       "      <th>mean</th>\n",
       "      <td>54.434146</td>\n",
       "      <td>0.695610</td>\n",
       "      <td>0.942439</td>\n",
       "      <td>131.611707</td>\n",
       "      <td>246.00000</td>\n",
       "      <td>0.149268</td>\n",
       "      <td>0.529756</td>\n",
       "      <td>149.114146</td>\n",
       "      <td>0.336585</td>\n",
       "      <td>1.071512</td>\n",
       "      <td>1.385366</td>\n",
       "      <td>0.754146</td>\n",
       "      <td>2.323902</td>\n",
       "      <td>0.513171</td>\n",
       "    </tr>\n",
       "    <tr>\n",
       "      <th>std</th>\n",
       "      <td>9.072290</td>\n",
       "      <td>0.460373</td>\n",
       "      <td>1.029641</td>\n",
       "      <td>17.516718</td>\n",
       "      <td>51.59251</td>\n",
       "      <td>0.356527</td>\n",
       "      <td>0.527878</td>\n",
       "      <td>23.005724</td>\n",
       "      <td>0.472772</td>\n",
       "      <td>1.175053</td>\n",
       "      <td>0.617755</td>\n",
       "      <td>1.030798</td>\n",
       "      <td>0.620660</td>\n",
       "      <td>0.500070</td>\n",
       "    </tr>\n",
       "    <tr>\n",
       "      <th>min</th>\n",
       "      <td>29.000000</td>\n",
       "      <td>0.000000</td>\n",
       "      <td>0.000000</td>\n",
       "      <td>94.000000</td>\n",
       "      <td>126.00000</td>\n",
       "      <td>0.000000</td>\n",
       "      <td>0.000000</td>\n",
       "      <td>71.000000</td>\n",
       "      <td>0.000000</td>\n",
       "      <td>0.000000</td>\n",
       "      <td>0.000000</td>\n",
       "      <td>0.000000</td>\n",
       "      <td>0.000000</td>\n",
       "      <td>0.000000</td>\n",
       "    </tr>\n",
       "    <tr>\n",
       "      <th>25%</th>\n",
       "      <td>48.000000</td>\n",
       "      <td>0.000000</td>\n",
       "      <td>0.000000</td>\n",
       "      <td>120.000000</td>\n",
       "      <td>211.00000</td>\n",
       "      <td>0.000000</td>\n",
       "      <td>0.000000</td>\n",
       "      <td>132.000000</td>\n",
       "      <td>0.000000</td>\n",
       "      <td>0.000000</td>\n",
       "      <td>1.000000</td>\n",
       "      <td>0.000000</td>\n",
       "      <td>2.000000</td>\n",
       "      <td>0.000000</td>\n",
       "    </tr>\n",
       "    <tr>\n",
       "      <th>50%</th>\n",
       "      <td>56.000000</td>\n",
       "      <td>1.000000</td>\n",
       "      <td>1.000000</td>\n",
       "      <td>130.000000</td>\n",
       "      <td>240.00000</td>\n",
       "      <td>0.000000</td>\n",
       "      <td>1.000000</td>\n",
       "      <td>152.000000</td>\n",
       "      <td>0.000000</td>\n",
       "      <td>0.800000</td>\n",
       "      <td>1.000000</td>\n",
       "      <td>0.000000</td>\n",
       "      <td>2.000000</td>\n",
       "      <td>1.000000</td>\n",
       "    </tr>\n",
       "    <tr>\n",
       "      <th>75%</th>\n",
       "      <td>61.000000</td>\n",
       "      <td>1.000000</td>\n",
       "      <td>2.000000</td>\n",
       "      <td>140.000000</td>\n",
       "      <td>275.00000</td>\n",
       "      <td>0.000000</td>\n",
       "      <td>1.000000</td>\n",
       "      <td>166.000000</td>\n",
       "      <td>1.000000</td>\n",
       "      <td>1.800000</td>\n",
       "      <td>2.000000</td>\n",
       "      <td>1.000000</td>\n",
       "      <td>3.000000</td>\n",
       "      <td>1.000000</td>\n",
       "    </tr>\n",
       "    <tr>\n",
       "      <th>max</th>\n",
       "      <td>77.000000</td>\n",
       "      <td>1.000000</td>\n",
       "      <td>3.000000</td>\n",
       "      <td>200.000000</td>\n",
       "      <td>564.00000</td>\n",
       "      <td>1.000000</td>\n",
       "      <td>2.000000</td>\n",
       "      <td>202.000000</td>\n",
       "      <td>1.000000</td>\n",
       "      <td>6.200000</td>\n",
       "      <td>2.000000</td>\n",
       "      <td>4.000000</td>\n",
       "      <td>3.000000</td>\n",
       "      <td>1.000000</td>\n",
       "    </tr>\n",
       "  </tbody>\n",
       "</table>\n",
       "</div>"
      ],
      "text/plain": [
       "               age          sex           cp     trestbps        chol  \\\n",
       "count  1025.000000  1025.000000  1025.000000  1025.000000  1025.00000   \n",
       "mean     54.434146     0.695610     0.942439   131.611707   246.00000   \n",
       "std       9.072290     0.460373     1.029641    17.516718    51.59251   \n",
       "min      29.000000     0.000000     0.000000    94.000000   126.00000   \n",
       "25%      48.000000     0.000000     0.000000   120.000000   211.00000   \n",
       "50%      56.000000     1.000000     1.000000   130.000000   240.00000   \n",
       "75%      61.000000     1.000000     2.000000   140.000000   275.00000   \n",
       "max      77.000000     1.000000     3.000000   200.000000   564.00000   \n",
       "\n",
       "               fbs      restecg      thalach        exang      oldpeak  \\\n",
       "count  1025.000000  1025.000000  1025.000000  1025.000000  1025.000000   \n",
       "mean      0.149268     0.529756   149.114146     0.336585     1.071512   \n",
       "std       0.356527     0.527878    23.005724     0.472772     1.175053   \n",
       "min       0.000000     0.000000    71.000000     0.000000     0.000000   \n",
       "25%       0.000000     0.000000   132.000000     0.000000     0.000000   \n",
       "50%       0.000000     1.000000   152.000000     0.000000     0.800000   \n",
       "75%       0.000000     1.000000   166.000000     1.000000     1.800000   \n",
       "max       1.000000     2.000000   202.000000     1.000000     6.200000   \n",
       "\n",
       "             slope           ca         thal       target  \n",
       "count  1025.000000  1025.000000  1025.000000  1025.000000  \n",
       "mean      1.385366     0.754146     2.323902     0.513171  \n",
       "std       0.617755     1.030798     0.620660     0.500070  \n",
       "min       0.000000     0.000000     0.000000     0.000000  \n",
       "25%       1.000000     0.000000     2.000000     0.000000  \n",
       "50%       1.000000     0.000000     2.000000     1.000000  \n",
       "75%       2.000000     1.000000     3.000000     1.000000  \n",
       "max       2.000000     4.000000     3.000000     1.000000  "
      ]
     },
     "execution_count": 5,
     "metadata": {},
     "output_type": "execute_result"
    }
   ],
   "source": [
    "#dataset description\n",
    "dataset.describe()"
   ]
  },
  {
   "cell_type": "code",
   "execution_count": 6,
   "id": "a86a9992",
   "metadata": {},
   "outputs": [
    {
     "name": "stdout",
     "output_type": "stream",
     "text": [
      "<class 'pandas.core.frame.DataFrame'>\n",
      "RangeIndex: 1025 entries, 0 to 1024\n",
      "Data columns (total 14 columns):\n",
      " #   Column    Non-Null Count  Dtype  \n",
      "---  ------    --------------  -----  \n",
      " 0   age       1025 non-null   int64  \n",
      " 1   sex       1025 non-null   int64  \n",
      " 2   cp        1025 non-null   int64  \n",
      " 3   trestbps  1025 non-null   int64  \n",
      " 4   chol      1025 non-null   int64  \n",
      " 5   fbs       1025 non-null   int64  \n",
      " 6   restecg   1025 non-null   int64  \n",
      " 7   thalach   1025 non-null   int64  \n",
      " 8   exang     1025 non-null   int64  \n",
      " 9   oldpeak   1025 non-null   float64\n",
      " 10  slope     1025 non-null   int64  \n",
      " 11  ca        1025 non-null   int64  \n",
      " 12  thal      1025 non-null   int64  \n",
      " 13  target    1025 non-null   int64  \n",
      "dtypes: float64(1), int64(13)\n",
      "memory usage: 112.2 KB\n"
     ]
    }
   ],
   "source": [
    "dataset.info()"
   ]
  },
  {
   "cell_type": "code",
   "execution_count": 7,
   "id": "3b8e3db0",
   "metadata": {},
   "outputs": [
    {
     "name": "stdout",
     "output_type": "stream",
     "text": [
      "age:\t\t\tage\n",
      "sex:\t\t\t1: male, 0: female\n",
      "cp:\t\t\tchest pain type, 1: typical angina, 2: atypical angina, 3: non-anginal pain, 4: asymptomatic\n",
      "trestbps:\t\t\tresting blood pressure\n",
      "chol:\t\t\t serum cholestoral in mg/dl\n",
      "fbs:\t\t\tfasting blood sugar > 120 mg/dl\n",
      "restecg:\t\t\tresting electrocardiographic results (values 0,1,2)\n",
      "thalach:\t\t\t maximum heart rate achieved\n",
      "exang:\t\t\texercise induced angina\n",
      "oldpeak:\t\t\toldpeak = ST depression induced by exercise relative to rest\n",
      "slope:\t\t\tthe slope of the peak exercise ST segment\n",
      "ca:\t\t\tnumber of major vessels (0-3) colored by flourosopy\n",
      "thal:\t\t\tthal: 3 = normal; 6 = fixed defect; 7 = reversable defect\n"
     ]
    }
   ],
   "source": [
    "#unuderstanding all comlumns in better way\n",
    "info = [\"age\",\"1: male, 0: female\",\"chest pain type, 1: typical angina, 2: atypical angina, 3: non-anginal pain, 4: asymptomatic\",\"resting blood pressure\",\" serum cholestoral in mg/dl\",\"fasting blood sugar > 120 mg/dl\",\"resting electrocardiographic results (values 0,1,2)\",\" maximum heart rate achieved\",\"exercise induced angina\",\"oldpeak = ST depression induced by exercise relative to rest\",\"the slope of the peak exercise ST segment\",\"number of major vessels (0-3) colored by flourosopy\",\"thal: 3 = normal; 6 = fixed defect; 7 = reversable defect\"]\n",
    "\n",
    "\n",
    "\n",
    "for i in range(len(info)):\n",
    "    print(dataset.columns[i]+\":\\t\\t\\t\"+info[i])"
   ]
  },
  {
   "cell_type": "code",
   "execution_count": 8,
   "id": "ad5f7b4a",
   "metadata": {},
   "outputs": [
    {
     "data": {
      "text/plain": [
       "count    1025.000000\n",
       "mean        0.513171\n",
       "std         0.500070\n",
       "min         0.000000\n",
       "25%         0.000000\n",
       "50%         1.000000\n",
       "75%         1.000000\n",
       "max         1.000000\n",
       "Name: target, dtype: float64"
      ]
     },
     "execution_count": 8,
     "metadata": {},
     "output_type": "execute_result"
    }
   ],
   "source": [
    "dataset[\"target\"].describe()"
   ]
  },
  {
   "cell_type": "code",
   "execution_count": 9,
   "id": "9eabdec6",
   "metadata": {},
   "outputs": [
    {
     "data": {
      "text/plain": [
       "array([0, 1])"
      ]
     },
     "execution_count": 9,
     "metadata": {},
     "output_type": "execute_result"
    }
   ],
   "source": [
    "dataset[\"target\"].unique()"
   ]
  },
  {
   "cell_type": "code",
   "execution_count": 10,
   "id": "2cd83690",
   "metadata": {},
   "outputs": [],
   "source": [
    "from matplotlib.pyplot import figure"
   ]
  },
  {
   "cell_type": "code",
   "execution_count": 11,
   "id": "0bff4323",
   "metadata": {},
   "outputs": [
    {
     "data": {
      "text/plain": [
       "<Figure size 576x3600 with 0 Axes>"
      ]
     },
     "metadata": {},
     "output_type": "display_data"
    }
   ],
   "source": [
    "fig=figure(figsize=(8, 50))"
   ]
  },
  {
   "cell_type": "markdown",
   "id": "d4549c8a",
   "metadata": {},
   "source": [
    "# Keep in mind this is classification problem means value is 0 or 1 heart disease yes or no"
   ]
  },
  {
   "cell_type": "code",
   "execution_count": 12,
   "id": "8b4d35c8",
   "metadata": {},
   "outputs": [
    {
     "data": {
      "text/plain": [
       "[<matplotlib.lines.Line2D at 0x7fab3f5596d0>]"
      ]
     },
     "execution_count": 12,
     "metadata": {},
     "output_type": "execute_result"
    },
    {
     "data": {
      "image/png": "[encoded data removed]",
      "text/plain": [
       "<Figure size 432x288 with 1 Axes>"
      ]
     },
     "metadata": {
      "needs_background": "light"
     },
     "output_type": "display_data"
    }
   ],
   "source": [
    "#Lets check correlation between variables \n",
    "plt.plot(dataset.corr()[\"target\"].abs().sort_values(ascending=False))"
   ]
  },
  {
   "cell_type": "markdown",
   "id": "a4c5a7ea",
   "metadata": {},
   "source": [
    "# From the above graph we can conclude that most of the columns are correlated howevwe fbs is very low correlation"
   ]
  },
  {
   "cell_type": "code",
   "execution_count": null,
   "id": "08589350",
   "metadata": {},
   "outputs": [],
   "source": []
  },
  {
   "cell_type": "markdown",
   "id": "0ee71169",
   "metadata": {},
   "source": [
    "# Lets perform some exploratoy data analysis"
   ]
  },
  {
   "cell_type": "code",
   "execution_count": 13,
   "id": "78713a3e",
   "metadata": {},
   "outputs": [
    {
     "name": "stdout",
     "output_type": "stream",
     "text": [
      "1    526\n",
      "0    499\n",
      "Name: target, dtype: int64\n"
     ]
    },
    {
     "data": {
      "image/png": "[encoded data removed]",
      "text/plain": [
       "<Figure size 432x288 with 1 Axes>"
      ]
     },
     "metadata": {
      "needs_background": "light"
     },
     "output_type": "display_data"
    }
   ],
   "source": [
    "y = dataset[\"target\"]\n",
    "\n",
    "sns.countplot(y)\n",
    "\n",
    "\n",
    "target_temp = dataset.target.value_counts()\n",
    "\n",
    "print(target_temp)"
   ]
  },
  {
   "cell_type": "code",
   "execution_count": 14,
   "id": "128df035",
   "metadata": {},
   "outputs": [
    {
     "name": "stdout",
     "output_type": "stream",
     "text": [
      "Percentage of patience without heart problems: 164.69\n",
      "Percentage of patience with heart problems: 173.6\n"
     ]
    }
   ],
   "source": [
    "print(\"Percentage of patience without heart problems: \"+str(round(target_temp[0]*100/303,2)))\n",
    "print(\"Percentage of patience with heart problems: \"+str(round(target_temp[1]*100/303,2)))"
   ]
  },
  {
   "cell_type": "code",
   "execution_count": 15,
   "id": "22f8eef8",
   "metadata": {},
   "outputs": [
    {
     "data": {
      "text/plain": [
       "array([1, 0])"
      ]
     },
     "execution_count": 15,
     "metadata": {},
     "output_type": "execute_result"
    }
   ],
   "source": [
    "#lets analyze sex feature \n",
    "dataset[\"sex\"].unique()"
   ]
  },
  {
   "cell_type": "markdown",
   "id": "e264351b",
   "metadata": {},
   "source": [
    "# sex has two features male and female, the blue plot shows the female percentage which mean that female has more percentage of heart desease than male"
   ]
  },
  {
   "cell_type": "code",
   "execution_count": 16,
   "id": "0e2f8cbe",
   "metadata": {},
   "outputs": [
    {
     "data": {
      "text/plain": [
       "<AxesSubplot:xlabel='sex', ylabel='target'>"
      ]
     },
     "execution_count": 16,
     "metadata": {},
     "output_type": "execute_result"
    },
    {
     "data": {
      "image/png": "[encoded data removed]",
      "text/plain": [
       "<Figure size 432x288 with 1 Axes>"
      ]
     },
     "metadata": {
      "needs_background": "light"
     },
     "output_type": "display_data"
    }
   ],
   "source": [
    "sns.barplot(dataset[\"sex\"],y)"
   ]
  },
  {
   "cell_type": "code",
   "execution_count": 17,
   "id": "801ef2be",
   "metadata": {},
   "outputs": [
    {
     "data": {
      "text/plain": [
       "array([0, 1, 2, 3])"
      ]
     },
     "execution_count": 17,
     "metadata": {},
     "output_type": "execute_result"
    }
   ],
   "source": [
    "#lets analyze chest pain and chest pain has 4 features \n",
    "dataset[\"cp\"].unique()"
   ]
  },
  {
   "cell_type": "code",
   "execution_count": 18,
   "id": "02c4ac29",
   "metadata": {},
   "outputs": [
    {
     "data": {
      "text/plain": [
       "<AxesSubplot:xlabel='cp', ylabel='target'>"
      ]
     },
     "execution_count": 18,
     "metadata": {},
     "output_type": "execute_result"
    },
    {
     "data": {
      "image/png": "[encoded data removed]",
      "text/plain": [
       "<Figure size 432x288 with 1 Axes>"
      ]
     },
     "metadata": {
      "needs_background": "light"
     },
     "output_type": "display_data"
    }
   ],
   "source": [
    "sns.barplot(dataset[\"cp\"],y)"
   ]
  },
  {
   "cell_type": "markdown",
   "id": "092713ff",
   "metadata": {},
   "source": [
    "# From the above plot we observe that chest pain of '0', i.e. the ones with typical angina are much less likely to have heart problems"
   ]
  },
  {
   "cell_type": "code",
   "execution_count": 19,
   "id": "a637312b",
   "metadata": {},
   "outputs": [
    {
     "data": {
      "text/plain": [
       "count    1025.000000\n",
       "mean        0.149268\n",
       "std         0.356527\n",
       "min         0.000000\n",
       "25%         0.000000\n",
       "50%         0.000000\n",
       "75%         0.000000\n",
       "max         1.000000\n",
       "Name: fbs, dtype: float64"
      ]
     },
     "execution_count": 19,
     "metadata": {},
     "output_type": "execute_result"
    }
   ],
   "source": [
    "#Lets analyze fbs feature \n",
    "dataset[\"fbs\"].describe()"
   ]
  },
  {
   "cell_type": "code",
   "execution_count": 20,
   "id": "68d9075c",
   "metadata": {},
   "outputs": [
    {
     "data": {
      "text/plain": [
       "<AxesSubplot:xlabel='fbs', ylabel='target'>"
      ]
     },
     "execution_count": 20,
     "metadata": {},
     "output_type": "execute_result"
    },
    {
     "data": {
      "image/png": "[encoded data removed]",
      "text/plain": [
       "<Figure size 432x288 with 1 Axes>"
      ]
     },
     "metadata": {
      "needs_background": "light"
     },
     "output_type": "display_data"
    }
   ],
   "source": [
    "sns.barplot(dataset[\"fbs\"],y)"
   ]
  },
  {
   "cell_type": "markdown",
   "id": "f03e1acc",
   "metadata": {},
   "source": [
    "Nothing extraordinary here"
   ]
  },
  {
   "cell_type": "code",
   "execution_count": 21,
   "id": "0b6dabb7",
   "metadata": {},
   "outputs": [
    {
     "data": {
      "text/plain": [
       "array([1, 0, 2])"
      ]
     },
     "execution_count": 21,
     "metadata": {},
     "output_type": "execute_result"
    }
   ],
   "source": [
    "#Analysing the restecg feature\n",
    "dataset[\"restecg\"].unique()"
   ]
  },
  {
   "cell_type": "code",
   "execution_count": 22,
   "id": "a32b6486",
   "metadata": {},
   "outputs": [
    {
     "data": {
      "text/plain": [
       "<AxesSubplot:xlabel='restecg', ylabel='target'>"
      ]
     },
     "execution_count": 22,
     "metadata": {},
     "output_type": "execute_result"
    },
    {
     "data": {
      "image/png": "[encoded data removed]",
      "text/plain": [
       "<Figure size 432x288 with 1 Axes>"
      ]
     },
     "metadata": {
      "needs_background": "light"
     },
     "output_type": "display_data"
    }
   ],
   "source": [
    "sns.barplot(dataset[\"restecg\"],y)"
   ]
  },
  {
   "cell_type": "markdown",
   "id": "97b92f48",
   "metadata": {},
   "source": [
    "We realize that people with restecg '1' and '0' are much more likely to have a heart disease than with restecg '2'"
   ]
  },
  {
   "cell_type": "markdown",
   "id": "007291f9",
   "metadata": {},
   "source": [
    "Analysing the 'exang' feature"
   ]
  },
  {
   "cell_type": "code",
   "execution_count": 23,
   "id": "07fdb2bd",
   "metadata": {},
   "outputs": [
    {
     "data": {
      "text/plain": [
       "array([0, 1])"
      ]
     },
     "execution_count": 23,
     "metadata": {},
     "output_type": "execute_result"
    }
   ],
   "source": [
    "dataset[\"exang\"].unique()"
   ]
  },
  {
   "cell_type": "code",
   "execution_count": 24,
   "id": "960d7588",
   "metadata": {},
   "outputs": [
    {
     "data": {
      "text/plain": [
       "<AxesSubplot:xlabel='exang', ylabel='target'>"
      ]
     },
     "execution_count": 24,
     "metadata": {},
     "output_type": "execute_result"
    },
    {
     "data": {
      "image/png": "[encoded data removed]",
      "text/plain": [
       "<Figure size 432x288 with 1 Axes>"
      ]
     },
     "metadata": {
      "needs_background": "light"
     },
     "output_type": "display_data"
    }
   ],
   "source": [
    "sns.barplot(dataset[\"exang\"],y)"
   ]
  },
  {
   "cell_type": "markdown",
   "id": "01ee93fc",
   "metadata": {},
   "source": [
    "People with exang=1 i.e. Exercise induced angina are much less likely to have heart problems"
   ]
  },
  {
   "cell_type": "markdown",
   "id": "d7aad2f2",
   "metadata": {},
   "source": [
    "# Analysing the Slope feature"
   ]
  },
  {
   "cell_type": "code",
   "execution_count": 25,
   "id": "ad65ec64",
   "metadata": {},
   "outputs": [
    {
     "data": {
      "text/plain": [
       "array([2, 0, 1])"
      ]
     },
     "execution_count": 25,
     "metadata": {},
     "output_type": "execute_result"
    }
   ],
   "source": [
    "dataset[\"slope\"].unique()"
   ]
  },
  {
   "cell_type": "code",
   "execution_count": 26,
   "id": "920f13f8",
   "metadata": {},
   "outputs": [
    {
     "data": {
      "text/plain": [
       "<AxesSubplot:xlabel='slope', ylabel='target'>"
      ]
     },
     "execution_count": 26,
     "metadata": {},
     "output_type": "execute_result"
    },
    {
     "data": {
      "image/png": "[encoded data removed]",
      "text/plain": [
       "<Figure size 432x288 with 1 Axes>"
      ]
     },
     "metadata": {
      "needs_background": "light"
     },
     "output_type": "display_data"
    }
   ],
   "source": [
    "sns.barplot(dataset[\"slope\"],y)"
   ]
  },
  {
   "cell_type": "markdown",
   "id": "66e5a50b",
   "metadata": {},
   "source": [
    "We observe, that Slope '2' causes heart pain much more than Slope '0' and '1'"
   ]
  },
  {
   "cell_type": "markdown",
   "id": "7aa9396e",
   "metadata": {},
   "source": [
    "# Analysing the 'ca' feature"
   ]
  },
  {
   "cell_type": "code",
   "execution_count": 27,
   "id": "2b9393bc",
   "metadata": {},
   "outputs": [],
   "source": [
    "#number of major vessels (0-3) colored by flourosopy"
   ]
  },
  {
   "cell_type": "code",
   "execution_count": 28,
   "id": "f8f39805",
   "metadata": {},
   "outputs": [
    {
     "data": {
      "text/plain": [
       "array([2, 0, 1, 3, 4])"
      ]
     },
     "execution_count": 28,
     "metadata": {},
     "output_type": "execute_result"
    }
   ],
   "source": [
    "dataset[\"ca\"].unique()"
   ]
  },
  {
   "cell_type": "code",
   "execution_count": 29,
   "id": "09bee633",
   "metadata": {},
   "outputs": [
    {
     "data": {
      "text/plain": [
       "<AxesSubplot:xlabel='ca', ylabel='count'>"
      ]
     },
     "execution_count": 29,
     "metadata": {},
     "output_type": "execute_result"
    },
    {
     "data": {
      "image/png": "[encoded data removed]",
      "text/plain": [
       "<Figure size 432x288 with 1 Axes>"
      ]
     },
     "metadata": {
      "needs_background": "light"
     },
     "output_type": "display_data"
    }
   ],
   "source": [
    "sns.countplot(dataset[\"ca\"])\n"
   ]
  },
  {
   "cell_type": "code",
   "execution_count": 30,
   "id": "51498a2f",
   "metadata": {},
   "outputs": [
    {
     "data": {
      "text/plain": [
       "<AxesSubplot:xlabel='ca', ylabel='target'>"
      ]
     },
     "execution_count": 30,
     "metadata": {},
     "output_type": "execute_result"
    },
    {
     "data": {
      "image/png": "[encoded data removed]",
      "text/plain": [
       "<Figure size 432x288 with 1 Axes>"
      ]
     },
     "metadata": {
      "needs_background": "light"
     },
     "output_type": "display_data"
    }
   ],
   "source": [
    "sns.barplot(dataset[\"ca\"],y)"
   ]
  },
  {
   "cell_type": "markdown",
   "id": "549358f7",
   "metadata": {},
   "source": [
    "ca=4 has astonishingly large number of heart patients"
   ]
  },
  {
   "cell_type": "code",
   "execution_count": 31,
   "id": "8aed61ea",
   "metadata": {},
   "outputs": [],
   "source": [
    "### Analysing the 'thal' feature"
   ]
  },
  {
   "cell_type": "code",
   "execution_count": 32,
   "id": "798d0606",
   "metadata": {},
   "outputs": [
    {
     "data": {
      "text/plain": [
       "array([3, 2, 1, 0])"
      ]
     },
     "execution_count": 32,
     "metadata": {},
     "output_type": "execute_result"
    }
   ],
   "source": [
    "dataset[\"thal\"].unique()"
   ]
  },
  {
   "cell_type": "code",
   "execution_count": 33,
   "id": "5c626840",
   "metadata": {},
   "outputs": [
    {
     "data": {
      "text/plain": [
       "<AxesSubplot:xlabel='thal', ylabel='target'>"
      ]
     },
     "execution_count": 33,
     "metadata": {},
     "output_type": "execute_result"
    },
    {
     "data": {
      "image/png": "[encoded data removed]",
      "text/plain": [
       "<Figure size 432x288 with 1 Axes>"
      ]
     },
     "metadata": {
      "needs_background": "light"
     },
     "output_type": "display_data"
    }
   ],
   "source": [
    "sns.barplot(dataset[\"thal\"],y)"
   ]
  },
  {
   "cell_type": "code",
   "execution_count": 34,
   "id": "5219c125",
   "metadata": {},
   "outputs": [
    {
     "data": {
      "text/plain": [
       "<AxesSubplot:xlabel='thal', ylabel='Density'>"
      ]
     },
     "execution_count": 34,
     "metadata": {},
     "output_type": "execute_result"
    },
    {
     "data": {
      "image/png": "[encoded data removed]",
      "text/plain": [
       "<Figure size 432x288 with 1 Axes>"
      ]
     },
     "metadata": {
      "needs_background": "light"
     },
     "output_type": "display_data"
    }
   ],
   "source": [
    "sns.distplot(dataset[\"thal\"])"
   ]
  },
  {
   "cell_type": "code",
   "execution_count": 35,
   "id": "41a0c725",
   "metadata": {},
   "outputs": [
    {
     "data": {
      "image/png": "[encoded data removed]",
      "text/plain": [
       "<Figure size 1440x576 with 1 Axes>"
      ]
     },
     "metadata": {
      "needs_background": "light"
     },
     "output_type": "display_data"
    }
   ],
   "source": [
    "pd.crosstab(dataset.age,dataset.target).plot(kind='bar',figsize = (20, 8))\n",
    "plt.title('Heart Disease Frequency for Ages')\n",
    "plt.ylabel('Frequency')\n",
    "plt.show()"
   ]
  },
  {
   "cell_type": "code",
   "execution_count": 36,
   "id": "0bd4c2b0",
   "metadata": {},
   "outputs": [
    {
     "data": {
      "image/png": "[encoded data removed]",
      "text/plain": [
       "<Figure size 720x360 with 1 Axes>"
      ]
     },
     "metadata": {
      "needs_background": "light"
     },
     "output_type": "display_data"
    }
   ],
   "source": [
    "pd.crosstab(dataset.sex,dataset.target).plot(kind='bar',figsize = (10, 5))\n",
    "plt.title('Heart Disease Frequency based on sex')\n",
    "plt.xticks(rotation=0)\n",
    "plt.xlabel('Sex(0 = Female, 1 = Male)')\n",
    "plt.ylabel('Frequency')\n",
    "plt.show()"
   ]
  },
  {
   "cell_type": "code",
   "execution_count": 37,
   "id": "a1e7fcc5",
   "metadata": {},
   "outputs": [
    {
     "data": {
      "image/png": "[encoded data removed]",
      "text/plain": [
       "<Figure size 432x288 with 1 Axes>"
      ]
     },
     "metadata": {
      "needs_background": "light"
     },
     "output_type": "display_data"
    }
   ],
   "source": [
    "plt.figure(figsize=(6,4))\n",
    "plt.scatter(x=dataset.age[dataset.target==1],y=dataset.thalach[(dataset.target==1)],c='red')\n",
    "plt.scatter(x=dataset.age[dataset.target==0],y=dataset.thalach[(dataset.target==0)],c='blue')\n",
    "plt.legend(['Disease','No Disease'])\n",
    "plt.xlabel('Age')\n",
    "plt.ylabel('Maximum Heart Rate')\n",
    "plt.show()"
   ]
  },
  {
   "cell_type": "markdown",
   "id": "7a96d0c0",
   "metadata": {},
   "source": [
    "# Splitting data into train and test to train the model"
   ]
  },
  {
   "cell_type": "code",
   "execution_count": 38,
   "id": "1760d720",
   "metadata": {},
   "outputs": [],
   "source": [
    "from sklearn.model_selection import train_test_split\n",
    "\n",
    "predictors = dataset.drop(\"target\",axis=1)\n",
    "target = dataset[\"target\"]\n",
    "\n",
    "X_train,X_test,Y_train,Y_test = train_test_split(predictors,target,test_size=0.20,random_state=0)"
   ]
  },
  {
   "cell_type": "code",
   "execution_count": 39,
   "id": "87641ea7",
   "metadata": {},
   "outputs": [
    {
     "data": {
      "text/plain": [
       "(820, 13)"
      ]
     },
     "execution_count": 39,
     "metadata": {},
     "output_type": "execute_result"
    }
   ],
   "source": [
    "X_train.shape"
   ]
  },
  {
   "cell_type": "code",
   "execution_count": 40,
   "id": "7e88ac67",
   "metadata": {},
   "outputs": [
    {
     "data": {
      "text/plain": [
       "(205, 13)"
      ]
     },
     "execution_count": 40,
     "metadata": {},
     "output_type": "execute_result"
    }
   ],
   "source": [
    "X_test.shape"
   ]
  },
  {
   "cell_type": "code",
   "execution_count": 41,
   "id": "0024e880",
   "metadata": {},
   "outputs": [
    {
     "data": {
      "text/plain": [
       "(820,)"
      ]
     },
     "execution_count": 41,
     "metadata": {},
     "output_type": "execute_result"
    }
   ],
   "source": [
    "Y_train.shape"
   ]
  },
  {
   "cell_type": "code",
   "execution_count": 42,
   "id": "13153d31",
   "metadata": {},
   "outputs": [
    {
     "data": {
      "text/plain": [
       "(205,)"
      ]
     },
     "execution_count": 42,
     "metadata": {},
     "output_type": "execute_result"
    }
   ],
   "source": [
    "Y_test.shape"
   ]
  },
  {
   "cell_type": "code",
   "execution_count": 45,
   "id": "6df906bb",
   "metadata": {},
   "outputs": [],
   "source": [
    "from sklearn.metrics import accuracy_score\n",
    "from sklearn.feature_selection import SelectKBest\n",
    "from sklearn.feature_selection import chi2"
   ]
  },
  {
   "cell_type": "code",
   "execution_count": 46,
   "id": "50ddcd31",
   "metadata": {},
   "outputs": [
    {
     "name": "stdout",
     "output_type": "stream",
     "text": [
      "       Specs       Score\n",
      "7    thalach  650.008493\n",
      "9    oldpeak  253.653461\n",
      "2         cp  217.823922\n",
      "11        ca  210.625919\n",
      "8      exang  130.470927\n",
      "4       chol  110.723364\n",
      "0        age   81.425368\n",
      "3   trestbps   45.974069\n",
      "10     slope   33.673948\n",
      "1        sex   24.373650\n",
      "12      thal   19.373465\n",
      "6    restecg    9.739343\n"
     ]
    }
   ],
   "source": [
    "data = dataset.copy()\n",
    "X = data.iloc[:,0:13]  #independent columns\n",
    "y = data.iloc[:,-1]    #target column i.e price range\n",
    "#apply SelectKBest class to extract top 10 best features\n",
    "bestfeatures = SelectKBest(score_func=chi2, k=10)\n",
    "fit = bestfeatures.fit(X,y)\n",
    "dfscores = pd.DataFrame(fit.scores_)\n",
    "dfcolumns = pd.DataFrame(X.columns)\n",
    "#concat two dataframes for better visualization \n",
    "featureScores = pd.concat([dfcolumns,dfscores],axis=1)\n",
    "featureScores.columns = ['Specs','Score']  #naming the dataframe columns\n",
    "print(featureScores.nlargest(12,'Score'))  #print 10 best features"
   ]
  },
  {
   "cell_type": "markdown",
   "id": "b525d0b7",
   "metadata": {},
   "source": [
    "# Feature Selection"
   ]
  },
  {
   "cell_type": "code",
   "execution_count": 47,
   "id": "f36ba9db",
   "metadata": {},
   "outputs": [
    {
     "name": "stdout",
     "output_type": "stream",
     "text": [
      "[0.07411348 0.05559805 0.12751011 0.05822746 0.05839372 0.01853508\n",
      " 0.03428502 0.08909729 0.09799418 0.09226809 0.06783371 0.12247662\n",
      " 0.1036672 ]\n"
     ]
    },
    {
     "data": {
      "image/png": "[encoded data removed]",
      "text/plain": [
       "<Figure size 432x288 with 1 Axes>"
      ]
     },
     "metadata": {
      "needs_background": "light"
     },
     "output_type": "display_data"
    }
   ],
   "source": [
    "from sklearn.ensemble import ExtraTreesClassifier\n",
    "\n",
    "model = ExtraTreesClassifier()\n",
    "model.fit(X,y)\n",
    "print(model.feature_importances_) #use inbuilt class feature_importances of tree based classifiers\n",
    "#plot graph of feature importances for better visualization\n",
    "feat_importances = pd.Series(model.feature_importances_, index=X.columns)\n",
    "feat_importances.nlargest(13).plot(kind='barh')\n",
    "plt.show()"
   ]
  },
  {
   "cell_type": "markdown",
   "id": "398068da",
   "metadata": {},
   "source": [
    "# Neural Networks"
   ]
  },
  {
   "cell_type": "code",
   "execution_count": 49,
   "id": "b80211eb",
   "metadata": {},
   "outputs": [],
   "source": [
    "from keras.models import Sequential\n",
    "from keras.layers import Dense"
   ]
  },
  {
   "cell_type": "code",
   "execution_count": 50,
   "id": "5e5d76e9",
   "metadata": {},
   "outputs": [],
   "source": [
    "model = Sequential()\n",
    "model.add(Dense(11,activation='relu',input_dim=13))\n",
    "model.add(Dense(1,activation='sigmoid'))\n",
    "\n",
    "model.compile(loss='binary_crossentropy',optimizer='adam',metrics=['accuracy'])"
   ]
  },
  {
   "cell_type": "code",
   "execution_count": 56,
   "id": "4c658bf2",
   "metadata": {},
   "outputs": [
    {
     "name": "stdout",
     "output_type": "stream",
     "text": [
      "Epoch 1/300\n",
      "26/26 [==============================] - 1s 2ms/step - loss: 16.6045 - accuracy: 0.5159\n",
      "Epoch 2/300\n",
      "26/26 [==============================] - 0s 6ms/step - loss: 3.6325 - accuracy: 0.4732\n",
      "Epoch 3/300\n",
      "26/26 [==============================] - 0s 2ms/step - loss: 2.4646 - accuracy: 0.5537\n",
      "Epoch 4/300\n",
      "26/26 [==============================] - 0s 5ms/step - loss: 1.7681 - accuracy: 0.6183\n",
      "Epoch 5/300\n",
      "26/26 [==============================] - 0s 3ms/step - loss: 1.4933 - accuracy: 0.6659\n",
      "Epoch 6/300\n",
      "26/26 [==============================] - 0s 3ms/step - loss: 1.3642 - accuracy: 0.6817\n",
      "Epoch 7/300\n",
      "26/26 [==============================] - 0s 4ms/step - loss: 1.2626 - accuracy: 0.6951\n",
      "Epoch 8/300\n",
      "26/26 [==============================] - 0s 4ms/step - loss: 1.2191 - accuracy: 0.6793\n",
      "Epoch 9/300\n",
      "26/26 [==============================] - 0s 4ms/step - loss: 1.1411 - accuracy: 0.6988\n",
      "Epoch 10/300\n",
      "26/26 [==============================] - 0s 3ms/step - loss: 1.0823 - accuracy: 0.6988\n",
      "Epoch 11/300\n",
      "26/26 [==============================] - 0s 4ms/step - loss: 1.1057 - accuracy: 0.6988\n",
      "Epoch 12/300\n",
      "26/26 [==============================] - 0s 3ms/step - loss: 1.0437 - accuracy: 0.6817\n",
      "Epoch 13/300\n",
      "26/26 [==============================] - 0s 3ms/step - loss: 0.9655 - accuracy: 0.7073\n",
      "Epoch 14/300\n",
      "26/26 [==============================] - 0s 4ms/step - loss: 0.9271 - accuracy: 0.6951\n",
      "Epoch 15/300\n",
      "26/26 [==============================] - 0s 3ms/step - loss: 0.8839 - accuracy: 0.7159\n",
      "Epoch 16/300\n",
      "26/26 [==============================] - 0s 3ms/step - loss: 0.8430 - accuracy: 0.7183\n",
      "Epoch 17/300\n",
      "26/26 [==============================] - 0s 3ms/step - loss: 0.8069 - accuracy: 0.6976\n",
      "Epoch 18/300\n",
      "26/26 [==============================] - 0s 3ms/step - loss: 0.7632 - accuracy: 0.7195\n",
      "Epoch 19/300\n",
      "26/26 [==============================] - 0s 6ms/step - loss: 0.6984 - accuracy: 0.7305\n",
      "Epoch 20/300\n",
      "26/26 [==============================] - 0s 5ms/step - loss: 0.6818 - accuracy: 0.7317\n",
      "Epoch 21/300\n",
      "26/26 [==============================] - 0s 3ms/step - loss: 0.6621 - accuracy: 0.7402\n",
      "Epoch 22/300\n",
      "26/26 [==============================] - 0s 4ms/step - loss: 0.6165 - accuracy: 0.7476\n",
      "Epoch 23/300\n",
      "26/26 [==============================] - 0s 4ms/step - loss: 0.6111 - accuracy: 0.7305\n",
      "Epoch 24/300\n",
      "26/26 [==============================] - 0s 3ms/step - loss: 0.5533 - accuracy: 0.7598\n",
      "Epoch 25/300\n",
      "26/26 [==============================] - 0s 4ms/step - loss: 0.5442 - accuracy: 0.7585\n",
      "Epoch 26/300\n",
      "26/26 [==============================] - 0s 4ms/step - loss: 0.5141 - accuracy: 0.7829\n",
      "Epoch 27/300\n",
      "26/26 [==============================] - 0s 5ms/step - loss: 0.5102 - accuracy: 0.7756\n",
      "Epoch 28/300\n",
      "26/26 [==============================] - 0s 3ms/step - loss: 0.4632 - accuracy: 0.8085\n",
      "Epoch 29/300\n",
      "26/26 [==============================] - 0s 2ms/step - loss: 0.4781 - accuracy: 0.7841\n",
      "Epoch 30/300\n",
      "26/26 [==============================] - 0s 3ms/step - loss: 0.4656 - accuracy: 0.7768\n",
      "Epoch 31/300\n",
      "26/26 [==============================] - 0s 3ms/step - loss: 0.4505 - accuracy: 0.8061\n",
      "Epoch 32/300\n",
      "26/26 [==============================] - 0s 3ms/step - loss: 0.4354 - accuracy: 0.8085\n",
      "Epoch 33/300\n",
      "26/26 [==============================] - 0s 4ms/step - loss: 0.4355 - accuracy: 0.8122\n",
      "Epoch 34/300\n",
      "26/26 [==============================] - 0s 3ms/step - loss: 0.4251 - accuracy: 0.8183\n",
      "Epoch 35/300\n",
      "26/26 [==============================] - 0s 3ms/step - loss: 0.4187 - accuracy: 0.8195\n",
      "Epoch 36/300\n",
      "26/26 [==============================] - 0s 3ms/step - loss: 0.4310 - accuracy: 0.7988\n",
      "Epoch 37/300\n",
      "26/26 [==============================] - 0s 4ms/step - loss: 0.4276 - accuracy: 0.8110\n",
      "Epoch 38/300\n",
      "26/26 [==============================] - 0s 4ms/step - loss: 0.4141 - accuracy: 0.8183\n",
      "Epoch 39/300\n",
      "26/26 [==============================] - 0s 3ms/step - loss: 0.4593 - accuracy: 0.7878\n",
      "Epoch 40/300\n",
      "26/26 [==============================] - 0s 4ms/step - loss: 0.4348 - accuracy: 0.8085\n",
      "Epoch 41/300\n",
      "26/26 [==============================] - 0s 3ms/step - loss: 0.4843 - accuracy: 0.7793\n",
      "Epoch 42/300\n",
      "26/26 [==============================] - 0s 3ms/step - loss: 0.4476 - accuracy: 0.7915\n",
      "Epoch 43/300\n",
      "26/26 [==============================] - 0s 3ms/step - loss: 0.4142 - accuracy: 0.8122\n",
      "Epoch 44/300\n",
      "26/26 [==============================] - 0s 3ms/step - loss: 0.4019 - accuracy: 0.8329\n",
      "Epoch 45/300\n",
      "26/26 [==============================] - 0s 3ms/step - loss: 0.3969 - accuracy: 0.8232\n",
      "Epoch 46/300\n",
      "26/26 [==============================] - 0s 2ms/step - loss: 0.3949 - accuracy: 0.8268\n",
      "Epoch 47/300\n",
      "26/26 [==============================] - 0s 3ms/step - loss: 0.3997 - accuracy: 0.8354\n",
      "Epoch 48/300\n",
      "26/26 [==============================] - 0s 3ms/step - loss: 0.4095 - accuracy: 0.8220\n",
      "Epoch 49/300\n",
      "26/26 [==============================] - 0s 4ms/step - loss: 0.4608 - accuracy: 0.7829\n",
      "Epoch 50/300\n",
      "26/26 [==============================] - 0s 3ms/step - loss: 0.4023 - accuracy: 0.8159\n",
      "Epoch 51/300\n",
      "26/26 [==============================] - 0s 4ms/step - loss: 0.4335 - accuracy: 0.8049\n",
      "Epoch 52/300\n",
      "26/26 [==============================] - 0s 3ms/step - loss: 0.4077 - accuracy: 0.8207\n",
      "Epoch 53/300\n",
      "26/26 [==============================] - 0s 4ms/step - loss: 0.3896 - accuracy: 0.8293\n",
      "Epoch 54/300\n",
      "26/26 [==============================] - 0s 3ms/step - loss: 0.3866 - accuracy: 0.8366\n",
      "Epoch 55/300\n",
      "26/26 [==============================] - 0s 3ms/step - loss: 0.3899 - accuracy: 0.8354\n",
      "Epoch 56/300\n",
      "26/26 [==============================] - 0s 3ms/step - loss: 0.3916 - accuracy: 0.8329\n",
      "Epoch 57/300\n",
      "26/26 [==============================] - 0s 3ms/step - loss: 0.3870 - accuracy: 0.8232\n",
      "Epoch 58/300\n",
      "26/26 [==============================] - 0s 3ms/step - loss: 0.3995 - accuracy: 0.8329\n",
      "Epoch 59/300\n",
      "26/26 [==============================] - 0s 4ms/step - loss: 0.4207 - accuracy: 0.8024\n",
      "Epoch 60/300\n",
      "26/26 [==============================] - 0s 3ms/step - loss: 0.3878 - accuracy: 0.8439\n",
      "Epoch 61/300\n",
      "26/26 [==============================] - 0s 3ms/step - loss: 0.3926 - accuracy: 0.8329\n",
      "Epoch 62/300\n",
      "26/26 [==============================] - 0s 2ms/step - loss: 0.3895 - accuracy: 0.8427\n",
      "Epoch 63/300\n",
      "26/26 [==============================] - 0s 3ms/step - loss: 0.3796 - accuracy: 0.8390\n",
      "Epoch 64/300\n",
      "26/26 [==============================] - 0s 2ms/step - loss: 0.3849 - accuracy: 0.8463\n",
      "Epoch 65/300\n",
      "26/26 [==============================] - 0s 3ms/step - loss: 0.3925 - accuracy: 0.8280\n",
      "Epoch 66/300\n",
      "26/26 [==============================] - 0s 3ms/step - loss: 0.3978 - accuracy: 0.8280\n",
      "Epoch 67/300\n",
      "26/26 [==============================] - 0s 2ms/step - loss: 0.4253 - accuracy: 0.8146\n",
      "Epoch 68/300\n",
      "26/26 [==============================] - 0s 3ms/step - loss: 0.3918 - accuracy: 0.8280\n",
      "Epoch 69/300\n",
      "26/26 [==============================] - 0s 3ms/step - loss: 0.3822 - accuracy: 0.8378\n",
      "Epoch 70/300\n",
      "26/26 [==============================] - 0s 2ms/step - loss: 0.4799 - accuracy: 0.7829\n",
      "Epoch 71/300\n",
      "26/26 [==============================] - 0s 3ms/step - loss: 0.4049 - accuracy: 0.8183\n",
      "Epoch 72/300\n",
      "26/26 [==============================] - 0s 2ms/step - loss: 0.4210 - accuracy: 0.8000\n",
      "Epoch 73/300\n",
      "26/26 [==============================] - 0s 3ms/step - loss: 0.4137 - accuracy: 0.8183\n",
      "Epoch 74/300\n",
      "26/26 [==============================] - 0s 3ms/step - loss: 0.4062 - accuracy: 0.8256\n",
      "Epoch 75/300\n",
      "26/26 [==============================] - 0s 3ms/step - loss: 0.3835 - accuracy: 0.8427\n",
      "Epoch 76/300\n",
      "26/26 [==============================] - 0s 3ms/step - loss: 0.3901 - accuracy: 0.8378\n",
      "Epoch 77/300\n",
      "26/26 [==============================] - 0s 3ms/step - loss: 0.3867 - accuracy: 0.8305\n",
      "Epoch 78/300\n",
      "26/26 [==============================] - 0s 4ms/step - loss: 0.3955 - accuracy: 0.8354\n",
      "Epoch 79/300\n",
      "26/26 [==============================] - 0s 2ms/step - loss: 0.4069 - accuracy: 0.8256\n",
      "Epoch 80/300\n",
      "26/26 [==============================] - 0s 2ms/step - loss: 0.4024 - accuracy: 0.8329\n",
      "Epoch 81/300\n",
      "26/26 [==============================] - 0s 3ms/step - loss: 0.3782 - accuracy: 0.8524\n",
      "Epoch 82/300\n",
      "26/26 [==============================] - 0s 2ms/step - loss: 0.3859 - accuracy: 0.8378\n",
      "Epoch 83/300\n",
      "26/26 [==============================] - 0s 2ms/step - loss: 0.3750 - accuracy: 0.8549\n",
      "Epoch 84/300\n",
      "26/26 [==============================] - 0s 2ms/step - loss: 0.3838 - accuracy: 0.8488\n",
      "Epoch 85/300\n",
      "26/26 [==============================] - 0s 3ms/step - loss: 0.4089 - accuracy: 0.8061\n",
      "Epoch 86/300\n",
      "26/26 [==============================] - 0s 3ms/step - loss: 0.3997 - accuracy: 0.8244\n",
      "Epoch 87/300\n",
      "26/26 [==============================] - 0s 2ms/step - loss: 0.3947 - accuracy: 0.8195\n",
      "Epoch 88/300\n",
      "26/26 [==============================] - 0s 2ms/step - loss: 0.3858 - accuracy: 0.8305\n",
      "Epoch 89/300\n",
      "26/26 [==============================] - 0s 2ms/step - loss: 0.4071 - accuracy: 0.8207\n",
      "Epoch 90/300\n",
      "26/26 [==============================] - 0s 3ms/step - loss: 0.4319 - accuracy: 0.8012\n",
      "Epoch 91/300\n",
      "26/26 [==============================] - 0s 3ms/step - loss: 0.4063 - accuracy: 0.8244\n",
      "Epoch 92/300\n",
      "26/26 [==============================] - 0s 2ms/step - loss: 0.4400 - accuracy: 0.7927\n",
      "Epoch 93/300\n",
      "26/26 [==============================] - 0s 2ms/step - loss: 0.4447 - accuracy: 0.8098\n",
      "Epoch 94/300\n",
      "26/26 [==============================] - 0s 3ms/step - loss: 0.4211 - accuracy: 0.8085\n",
      "Epoch 95/300\n",
      "26/26 [==============================] - 0s 3ms/step - loss: 0.3894 - accuracy: 0.8098\n",
      "Epoch 96/300\n",
      "26/26 [==============================] - 0s 3ms/step - loss: 0.3911 - accuracy: 0.8378\n",
      "Epoch 97/300\n",
      "26/26 [==============================] - 0s 3ms/step - loss: 0.4405 - accuracy: 0.8061\n",
      "Epoch 98/300\n",
      "26/26 [==============================] - 0s 3ms/step - loss: 0.4355 - accuracy: 0.8024\n",
      "Epoch 99/300\n",
      "26/26 [==============================] - 0s 3ms/step - loss: 0.3828 - accuracy: 0.8463\n",
      "Epoch 100/300\n",
      "26/26 [==============================] - 0s 2ms/step - loss: 0.3902 - accuracy: 0.8183\n",
      "Epoch 101/300\n",
      "26/26 [==============================] - 0s 2ms/step - loss: 0.3799 - accuracy: 0.8341\n",
      "Epoch 102/300\n",
      "26/26 [==============================] - 0s 3ms/step - loss: 0.4054 - accuracy: 0.8280\n",
      "Epoch 103/300\n",
      "26/26 [==============================] - 0s 3ms/step - loss: 0.3914 - accuracy: 0.8293\n",
      "Epoch 104/300\n",
      "26/26 [==============================] - 0s 2ms/step - loss: 0.3892 - accuracy: 0.8293\n",
      "Epoch 105/300\n",
      "26/26 [==============================] - 0s 3ms/step - loss: 0.3871 - accuracy: 0.8402\n",
      "Epoch 106/300\n",
      "26/26 [==============================] - 0s 4ms/step - loss: 0.3804 - accuracy: 0.8451\n",
      "Epoch 107/300\n",
      "26/26 [==============================] - 0s 3ms/step - loss: 0.3900 - accuracy: 0.8256\n",
      "Epoch 108/300\n",
      "26/26 [==============================] - 0s 2ms/step - loss: 0.3814 - accuracy: 0.8451\n",
      "Epoch 109/300\n",
      "26/26 [==============================] - 0s 4ms/step - loss: 0.3888 - accuracy: 0.8366\n",
      "Epoch 110/300\n",
      "26/26 [==============================] - 0s 2ms/step - loss: 0.3930 - accuracy: 0.8366\n",
      "Epoch 111/300\n",
      "26/26 [==============================] - 0s 2ms/step - loss: 0.3781 - accuracy: 0.8378\n",
      "Epoch 112/300\n",
      "26/26 [==============================] - 0s 2ms/step - loss: 0.3908 - accuracy: 0.8195\n",
      "Epoch 113/300\n",
      "26/26 [==============================] - 0s 3ms/step - loss: 0.3834 - accuracy: 0.8293\n",
      "Epoch 114/300\n",
      "26/26 [==============================] - 0s 2ms/step - loss: 0.3867 - accuracy: 0.8329\n",
      "Epoch 115/300\n",
      "26/26 [==============================] - 0s 5ms/step - loss: 0.4008 - accuracy: 0.8256\n",
      "Epoch 116/300\n",
      "26/26 [==============================] - 0s 4ms/step - loss: 0.3796 - accuracy: 0.8427\n",
      "Epoch 117/300\n",
      "26/26 [==============================] - 0s 3ms/step - loss: 0.3986 - accuracy: 0.8244\n",
      "Epoch 118/300\n",
      "26/26 [==============================] - 0s 2ms/step - loss: 0.3844 - accuracy: 0.8390\n",
      "Epoch 119/300\n",
      "26/26 [==============================] - 0s 2ms/step - loss: 0.3850 - accuracy: 0.8341\n",
      "Epoch 120/300\n",
      "26/26 [==============================] - 0s 2ms/step - loss: 0.3772 - accuracy: 0.8280\n",
      "Epoch 121/300\n",
      "26/26 [==============================] - 0s 3ms/step - loss: 0.4158 - accuracy: 0.8195\n",
      "Epoch 122/300\n",
      "26/26 [==============================] - 0s 2ms/step - loss: 0.4136 - accuracy: 0.8232\n",
      "Epoch 123/300\n",
      "26/26 [==============================] - 0s 3ms/step - loss: 0.4360 - accuracy: 0.7902\n",
      "Epoch 124/300\n",
      "26/26 [==============================] - 0s 3ms/step - loss: 0.4072 - accuracy: 0.8098\n",
      "Epoch 125/300\n",
      "26/26 [==============================] - 0s 2ms/step - loss: 0.3905 - accuracy: 0.8341\n",
      "Epoch 126/300\n",
      "26/26 [==============================] - 0s 3ms/step - loss: 0.3895 - accuracy: 0.8329\n",
      "Epoch 127/300\n",
      "26/26 [==============================] - 0s 3ms/step - loss: 0.3984 - accuracy: 0.8244\n",
      "Epoch 128/300\n",
      "26/26 [==============================] - 0s 2ms/step - loss: 0.3770 - accuracy: 0.8341\n",
      "Epoch 129/300\n",
      "26/26 [==============================] - 0s 3ms/step - loss: 0.3711 - accuracy: 0.8476\n",
      "Epoch 130/300\n",
      "26/26 [==============================] - 0s 4ms/step - loss: 0.3732 - accuracy: 0.8463\n",
      "Epoch 131/300\n",
      "26/26 [==============================] - 0s 3ms/step - loss: 0.3940 - accuracy: 0.8268\n",
      "Epoch 132/300\n",
      "26/26 [==============================] - 0s 3ms/step - loss: 0.3833 - accuracy: 0.8366\n",
      "Epoch 133/300\n",
      "26/26 [==============================] - 0s 3ms/step - loss: 0.3949 - accuracy: 0.8256\n",
      "Epoch 134/300\n",
      "26/26 [==============================] - 0s 3ms/step - loss: 0.3932 - accuracy: 0.8317\n",
      "Epoch 135/300\n",
      "26/26 [==============================] - 0s 3ms/step - loss: 0.3740 - accuracy: 0.8378\n",
      "Epoch 136/300\n",
      "26/26 [==============================] - 0s 3ms/step - loss: 0.3809 - accuracy: 0.8415\n",
      "Epoch 137/300\n",
      "26/26 [==============================] - 0s 3ms/step - loss: 0.3801 - accuracy: 0.8390\n",
      "Epoch 138/300\n",
      "26/26 [==============================] - 0s 3ms/step - loss: 0.4051 - accuracy: 0.8220\n",
      "Epoch 139/300\n",
      "26/26 [==============================] - 0s 3ms/step - loss: 0.4231 - accuracy: 0.8073\n",
      "Epoch 140/300\n",
      "26/26 [==============================] - 0s 3ms/step - loss: 0.3853 - accuracy: 0.8293\n",
      "Epoch 141/300\n",
      "26/26 [==============================] - 0s 3ms/step - loss: 0.3721 - accuracy: 0.8512\n",
      "Epoch 142/300\n",
      "26/26 [==============================] - 0s 3ms/step - loss: 0.3888 - accuracy: 0.8439\n",
      "Epoch 143/300\n",
      "26/26 [==============================] - 0s 3ms/step - loss: 0.3762 - accuracy: 0.8573\n",
      "Epoch 144/300\n",
      "26/26 [==============================] - 0s 2ms/step - loss: 0.4212 - accuracy: 0.8159\n",
      "Epoch 145/300\n",
      "26/26 [==============================] - 0s 3ms/step - loss: 0.3765 - accuracy: 0.8488\n",
      "Epoch 146/300\n",
      "26/26 [==============================] - 0s 2ms/step - loss: 0.3769 - accuracy: 0.8439\n",
      "Epoch 147/300\n",
      "26/26 [==============================] - 0s 3ms/step - loss: 0.3882 - accuracy: 0.8256\n",
      "Epoch 148/300\n",
      "26/26 [==============================] - 0s 3ms/step - loss: 0.4171 - accuracy: 0.8171\n",
      "Epoch 149/300\n",
      "26/26 [==============================] - 0s 3ms/step - loss: 0.4361 - accuracy: 0.8049\n",
      "Epoch 150/300\n",
      "26/26 [==============================] - 0s 2ms/step - loss: 0.4228 - accuracy: 0.8085\n",
      "Epoch 151/300\n",
      "26/26 [==============================] - 0s 4ms/step - loss: 0.3746 - accuracy: 0.8366\n",
      "Epoch 152/300\n",
      "26/26 [==============================] - 0s 3ms/step - loss: 0.3896 - accuracy: 0.8415\n",
      "Epoch 153/300\n",
      "26/26 [==============================] - 0s 3ms/step - loss: 0.3761 - accuracy: 0.8427\n",
      "Epoch 154/300\n",
      "26/26 [==============================] - 0s 2ms/step - loss: 0.3703 - accuracy: 0.8451\n",
      "Epoch 155/300\n",
      "26/26 [==============================] - 0s 3ms/step - loss: 0.3874 - accuracy: 0.8268\n",
      "Epoch 156/300\n",
      "26/26 [==============================] - 0s 3ms/step - loss: 0.3904 - accuracy: 0.8293\n",
      "Epoch 157/300\n",
      "26/26 [==============================] - 0s 2ms/step - loss: 0.3867 - accuracy: 0.8293\n",
      "Epoch 158/300\n",
      "26/26 [==============================] - 0s 3ms/step - loss: 0.4058 - accuracy: 0.8146\n",
      "Epoch 159/300\n",
      "26/26 [==============================] - 0s 2ms/step - loss: 0.3985 - accuracy: 0.8171\n",
      "Epoch 160/300\n",
      "26/26 [==============================] - 0s 3ms/step - loss: 0.4102 - accuracy: 0.8085\n",
      "Epoch 161/300\n",
      "26/26 [==============================] - 0s 3ms/step - loss: 0.3858 - accuracy: 0.8244\n",
      "Epoch 162/300\n",
      "26/26 [==============================] - 0s 2ms/step - loss: 0.3752 - accuracy: 0.8427\n",
      "Epoch 163/300\n",
      "26/26 [==============================] - 0s 3ms/step - loss: 0.3852 - accuracy: 0.8256\n",
      "Epoch 164/300\n",
      "26/26 [==============================] - 0s 2ms/step - loss: 0.3799 - accuracy: 0.8305\n",
      "Epoch 165/300\n",
      "26/26 [==============================] - 0s 2ms/step - loss: 0.4076 - accuracy: 0.8207\n",
      "Epoch 166/300\n",
      "26/26 [==============================] - 0s 3ms/step - loss: 0.4001 - accuracy: 0.8207\n",
      "Epoch 167/300\n",
      "26/26 [==============================] - 0s 3ms/step - loss: 0.3838 - accuracy: 0.8354\n",
      "Epoch 168/300\n",
      "26/26 [==============================] - 0s 4ms/step - loss: 0.3751 - accuracy: 0.8549\n",
      "Epoch 169/300\n",
      "26/26 [==============================] - 0s 3ms/step - loss: 0.3728 - accuracy: 0.8439\n",
      "Epoch 170/300\n",
      "26/26 [==============================] - 0s 2ms/step - loss: 0.3826 - accuracy: 0.8280\n",
      "Epoch 171/300\n",
      "26/26 [==============================] - 0s 3ms/step - loss: 0.3799 - accuracy: 0.8415\n",
      "Epoch 172/300\n",
      "26/26 [==============================] - 0s 5ms/step - loss: 0.3869 - accuracy: 0.8317\n",
      "Epoch 173/300\n",
      "26/26 [==============================] - 0s 3ms/step - loss: 0.4422 - accuracy: 0.8085\n",
      "Epoch 174/300\n",
      "26/26 [==============================] - 0s 3ms/step - loss: 0.3953 - accuracy: 0.8232\n",
      "Epoch 175/300\n",
      "26/26 [==============================] - 0s 2ms/step - loss: 0.3732 - accuracy: 0.8512\n",
      "Epoch 176/300\n",
      "26/26 [==============================] - 0s 3ms/step - loss: 0.3803 - accuracy: 0.8354\n",
      "Epoch 177/300\n",
      "26/26 [==============================] - 0s 3ms/step - loss: 0.3942 - accuracy: 0.8341\n",
      "Epoch 178/300\n",
      "26/26 [==============================] - 0s 3ms/step - loss: 0.4045 - accuracy: 0.8183\n",
      "Epoch 179/300\n",
      "26/26 [==============================] - 0s 3ms/step - loss: 0.3774 - accuracy: 0.8354\n",
      "Epoch 180/300\n",
      "26/26 [==============================] - 0s 4ms/step - loss: 0.3822 - accuracy: 0.8439\n",
      "Epoch 181/300\n",
      "26/26 [==============================] - 0s 3ms/step - loss: 0.3743 - accuracy: 0.8451\n",
      "Epoch 182/300\n",
      "26/26 [==============================] - 0s 3ms/step - loss: 0.3999 - accuracy: 0.8195\n",
      "Epoch 183/300\n",
      "26/26 [==============================] - 0s 3ms/step - loss: 0.3856 - accuracy: 0.8341\n",
      "Epoch 184/300\n",
      "26/26 [==============================] - 0s 3ms/step - loss: 0.4012 - accuracy: 0.8171\n",
      "Epoch 185/300\n",
      "26/26 [==============================] - 0s 3ms/step - loss: 0.4021 - accuracy: 0.8122\n",
      "Epoch 186/300\n",
      "26/26 [==============================] - 0s 2ms/step - loss: 0.3826 - accuracy: 0.8317\n",
      "Epoch 187/300\n",
      "26/26 [==============================] - 0s 4ms/step - loss: 0.3894 - accuracy: 0.8366\n",
      "Epoch 188/300\n",
      "26/26 [==============================] - 0s 3ms/step - loss: 0.3771 - accuracy: 0.8390\n",
      "Epoch 189/300\n",
      "26/26 [==============================] - 0s 3ms/step - loss: 0.3769 - accuracy: 0.8366\n",
      "Epoch 190/300\n",
      "26/26 [==============================] - 0s 2ms/step - loss: 0.3891 - accuracy: 0.8280\n",
      "Epoch 191/300\n",
      "26/26 [==============================] - 0s 2ms/step - loss: 0.4002 - accuracy: 0.8354\n",
      "Epoch 192/300\n",
      "26/26 [==============================] - 0s 3ms/step - loss: 0.3846 - accuracy: 0.8293\n",
      "Epoch 193/300\n",
      "26/26 [==============================] - 0s 3ms/step - loss: 0.3859 - accuracy: 0.8439\n",
      "Epoch 194/300\n",
      "26/26 [==============================] - 0s 3ms/step - loss: 0.4004 - accuracy: 0.8207\n",
      "Epoch 195/300\n",
      "26/26 [==============================] - 0s 2ms/step - loss: 0.3699 - accuracy: 0.8476\n",
      "Epoch 196/300\n",
      "26/26 [==============================] - 0s 3ms/step - loss: 0.3958 - accuracy: 0.8207\n",
      "Epoch 197/300\n",
      "26/26 [==============================] - 0s 3ms/step - loss: 0.4111 - accuracy: 0.8207\n",
      "Epoch 198/300\n",
      "26/26 [==============================] - 0s 3ms/step - loss: 0.4551 - accuracy: 0.7939\n",
      "Epoch 199/300\n",
      "26/26 [==============================] - 0s 2ms/step - loss: 0.3794 - accuracy: 0.8378\n",
      "Epoch 200/300\n",
      "26/26 [==============================] - 0s 2ms/step - loss: 0.3767 - accuracy: 0.8451\n",
      "Epoch 201/300\n",
      "26/26 [==============================] - 0s 3ms/step - loss: 0.3796 - accuracy: 0.8305\n",
      "Epoch 202/300\n",
      "26/26 [==============================] - 0s 3ms/step - loss: 0.3746 - accuracy: 0.8476\n",
      "Epoch 203/300\n",
      "26/26 [==============================] - 0s 2ms/step - loss: 0.3792 - accuracy: 0.8451\n",
      "Epoch 204/300\n",
      "26/26 [==============================] - 0s 3ms/step - loss: 0.3994 - accuracy: 0.8280\n",
      "Epoch 205/300\n",
      "26/26 [==============================] - 0s 2ms/step - loss: 0.3853 - accuracy: 0.8329\n",
      "Epoch 206/300\n",
      "26/26 [==============================] - 0s 3ms/step - loss: 0.3758 - accuracy: 0.8439\n",
      "Epoch 207/300\n",
      "26/26 [==============================] - 0s 3ms/step - loss: 0.3792 - accuracy: 0.8354\n",
      "Epoch 208/300\n",
      "26/26 [==============================] - 0s 3ms/step - loss: 0.3829 - accuracy: 0.8268\n",
      "Epoch 209/300\n",
      "26/26 [==============================] - 0s 2ms/step - loss: 0.4028 - accuracy: 0.8244\n",
      "Epoch 210/300\n",
      "26/26 [==============================] - 0s 2ms/step - loss: 0.3869 - accuracy: 0.8378\n",
      "Epoch 211/300\n",
      "26/26 [==============================] - 0s 3ms/step - loss: 0.3913 - accuracy: 0.8232\n",
      "Epoch 212/300\n",
      "26/26 [==============================] - 0s 2ms/step - loss: 0.3772 - accuracy: 0.8402\n",
      "Epoch 213/300\n",
      "26/26 [==============================] - 0s 2ms/step - loss: 0.3778 - accuracy: 0.8256\n",
      "Epoch 214/300\n",
      "26/26 [==============================] - 0s 3ms/step - loss: 0.3777 - accuracy: 0.8439\n",
      "Epoch 215/300\n",
      "26/26 [==============================] - 0s 4ms/step - loss: 0.3899 - accuracy: 0.8293\n",
      "Epoch 216/300\n",
      "26/26 [==============================] - 0s 2ms/step - loss: 0.4119 - accuracy: 0.8232\n",
      "Epoch 217/300\n",
      "26/26 [==============================] - 0s 3ms/step - loss: 0.3913 - accuracy: 0.8329\n",
      "Epoch 218/300\n",
      "26/26 [==============================] - 0s 3ms/step - loss: 0.3908 - accuracy: 0.8439\n",
      "Epoch 219/300\n",
      "26/26 [==============================] - 0s 3ms/step - loss: 0.3798 - accuracy: 0.8280\n",
      "Epoch 220/300\n",
      "26/26 [==============================] - 0s 2ms/step - loss: 0.3860 - accuracy: 0.8427\n",
      "Epoch 221/300\n",
      "26/26 [==============================] - 0s 3ms/step - loss: 0.3880 - accuracy: 0.8402\n",
      "Epoch 222/300\n",
      "26/26 [==============================] - 0s 4ms/step - loss: 0.3966 - accuracy: 0.8220\n",
      "Epoch 223/300\n",
      "26/26 [==============================] - 0s 3ms/step - loss: 0.4211 - accuracy: 0.8061\n",
      "Epoch 224/300\n",
      "26/26 [==============================] - 0s 3ms/step - loss: 0.3911 - accuracy: 0.8378\n",
      "Epoch 225/300\n",
      "26/26 [==============================] - 0s 3ms/step - loss: 0.3816 - accuracy: 0.8390\n",
      "Epoch 226/300\n",
      "26/26 [==============================] - 0s 3ms/step - loss: 0.3873 - accuracy: 0.8293\n",
      "Epoch 227/300\n",
      "26/26 [==============================] - 0s 2ms/step - loss: 0.3945 - accuracy: 0.8183\n",
      "Epoch 228/300\n",
      "26/26 [==============================] - 0s 3ms/step - loss: 0.3757 - accuracy: 0.8329\n",
      "Epoch 229/300\n",
      "26/26 [==============================] - 0s 4ms/step - loss: 0.3729 - accuracy: 0.8366\n",
      "Epoch 230/300\n",
      "26/26 [==============================] - 0s 3ms/step - loss: 0.3833 - accuracy: 0.8341\n",
      "Epoch 231/300\n",
      "26/26 [==============================] - 0s 3ms/step - loss: 0.3818 - accuracy: 0.8280\n",
      "Epoch 232/300\n",
      "26/26 [==============================] - 0s 2ms/step - loss: 0.4198 - accuracy: 0.8146\n",
      "Epoch 233/300\n",
      "26/26 [==============================] - 0s 3ms/step - loss: 0.3719 - accuracy: 0.8390\n",
      "Epoch 234/300\n",
      "26/26 [==============================] - 0s 3ms/step - loss: 0.3762 - accuracy: 0.8439\n",
      "Epoch 235/300\n",
      "26/26 [==============================] - 0s 2ms/step - loss: 0.3910 - accuracy: 0.8415\n",
      "Epoch 236/300\n",
      "26/26 [==============================] - 0s 2ms/step - loss: 0.3825 - accuracy: 0.8354\n",
      "Epoch 237/300\n",
      "26/26 [==============================] - 0s 2ms/step - loss: 0.3781 - accuracy: 0.8427\n",
      "Epoch 238/300\n",
      "26/26 [==============================] - 0s 3ms/step - loss: 0.3785 - accuracy: 0.8463\n",
      "Epoch 239/300\n",
      "26/26 [==============================] - 0s 2ms/step - loss: 0.3723 - accuracy: 0.8500\n",
      "Epoch 240/300\n",
      "26/26 [==============================] - 0s 2ms/step - loss: 0.3734 - accuracy: 0.8415\n",
      "Epoch 241/300\n",
      "26/26 [==============================] - 0s 5ms/step - loss: 0.4113 - accuracy: 0.8183\n",
      "Epoch 242/300\n",
      "26/26 [==============================] - 0s 4ms/step - loss: 0.3833 - accuracy: 0.8439\n",
      "Epoch 243/300\n",
      "26/26 [==============================] - 0s 3ms/step - loss: 0.3881 - accuracy: 0.8268\n",
      "Epoch 244/300\n",
      "26/26 [==============================] - 0s 2ms/step - loss: 0.4026 - accuracy: 0.8232\n",
      "Epoch 245/300\n",
      "26/26 [==============================] - 0s 2ms/step - loss: 0.3929 - accuracy: 0.8293\n",
      "Epoch 246/300\n",
      "26/26 [==============================] - 0s 2ms/step - loss: 0.3894 - accuracy: 0.8268\n",
      "Epoch 247/300\n",
      "26/26 [==============================] - 0s 3ms/step - loss: 0.3825 - accuracy: 0.8207\n",
      "Epoch 248/300\n",
      "26/26 [==============================] - 0s 3ms/step - loss: 0.3672 - accuracy: 0.8537\n",
      "Epoch 249/300\n",
      "26/26 [==============================] - 0s 4ms/step - loss: 0.3695 - accuracy: 0.8476\n",
      "Epoch 250/300\n",
      "26/26 [==============================] - 0s 3ms/step - loss: 0.3747 - accuracy: 0.8451\n",
      "Epoch 251/300\n",
      "26/26 [==============================] - 0s 3ms/step - loss: 0.4282 - accuracy: 0.8024\n",
      "Epoch 252/300\n",
      "26/26 [==============================] - 0s 3ms/step - loss: 0.4054 - accuracy: 0.8220\n",
      "Epoch 253/300\n",
      "26/26 [==============================] - 0s 3ms/step - loss: 0.4125 - accuracy: 0.8220\n",
      "Epoch 254/300\n",
      "26/26 [==============================] - 0s 3ms/step - loss: 0.4114 - accuracy: 0.8268\n",
      "Epoch 255/300\n",
      "26/26 [==============================] - 0s 3ms/step - loss: 0.3767 - accuracy: 0.8378\n",
      "Epoch 256/300\n",
      "26/26 [==============================] - 0s 3ms/step - loss: 0.3794 - accuracy: 0.8390\n",
      "Epoch 257/300\n",
      "26/26 [==============================] - 0s 3ms/step - loss: 0.3866 - accuracy: 0.8293\n",
      "Epoch 258/300\n",
      "26/26 [==============================] - 0s 2ms/step - loss: 0.4286 - accuracy: 0.8159\n",
      "Epoch 259/300\n",
      "26/26 [==============================] - 0s 2ms/step - loss: 0.3691 - accuracy: 0.8439\n",
      "Epoch 260/300\n",
      "26/26 [==============================] - 0s 3ms/step - loss: 0.3819 - accuracy: 0.8317\n",
      "Epoch 261/300\n",
      "26/26 [==============================] - 0s 4ms/step - loss: 0.3999 - accuracy: 0.8305\n",
      "Epoch 262/300\n",
      "26/26 [==============================] - 0s 3ms/step - loss: 0.4036 - accuracy: 0.8207\n",
      "Epoch 263/300\n",
      "26/26 [==============================] - 0s 5ms/step - loss: 0.3909 - accuracy: 0.8329\n",
      "Epoch 264/300\n",
      "26/26 [==============================] - 0s 4ms/step - loss: 0.3741 - accuracy: 0.8476\n",
      "Epoch 265/300\n",
      "26/26 [==============================] - 0s 2ms/step - loss: 0.3739 - accuracy: 0.8390\n",
      "Epoch 266/300\n",
      "26/26 [==============================] - 0s 3ms/step - loss: 0.3715 - accuracy: 0.8488\n",
      "Epoch 267/300\n",
      "26/26 [==============================] - 0s 3ms/step - loss: 0.3737 - accuracy: 0.8415\n",
      "Epoch 268/300\n",
      "26/26 [==============================] - 0s 3ms/step - loss: 0.3747 - accuracy: 0.8427\n",
      "Epoch 269/300\n",
      "26/26 [==============================] - 0s 2ms/step - loss: 0.3744 - accuracy: 0.8415\n",
      "Epoch 270/300\n",
      "26/26 [==============================] - 0s 3ms/step - loss: 0.3852 - accuracy: 0.8354\n",
      "Epoch 271/300\n",
      "26/26 [==============================] - 0s 3ms/step - loss: 0.4070 - accuracy: 0.8110\n",
      "Epoch 272/300\n",
      "26/26 [==============================] - 0s 2ms/step - loss: 0.3720 - accuracy: 0.8561\n",
      "Epoch 273/300\n",
      "26/26 [==============================] - 0s 3ms/step - loss: 0.3762 - accuracy: 0.8488\n",
      "Epoch 274/300\n",
      "26/26 [==============================] - 0s 4ms/step - loss: 0.4185 - accuracy: 0.8183\n",
      "Epoch 275/300\n",
      "26/26 [==============================] - 0s 3ms/step - loss: 0.3876 - accuracy: 0.8280\n",
      "Epoch 276/300\n",
      "26/26 [==============================] - 0s 2ms/step - loss: 0.4483 - accuracy: 0.7976\n",
      "Epoch 277/300\n",
      "26/26 [==============================] - 0s 2ms/step - loss: 0.4046 - accuracy: 0.8329\n",
      "Epoch 278/300\n",
      "26/26 [==============================] - 0s 2ms/step - loss: 0.3940 - accuracy: 0.8329\n",
      "Epoch 279/300\n",
      "26/26 [==============================] - 0s 2ms/step - loss: 0.3945 - accuracy: 0.8268\n",
      "Epoch 280/300\n",
      "26/26 [==============================] - 0s 2ms/step - loss: 0.4040 - accuracy: 0.8110\n",
      "Epoch 281/300\n",
      "26/26 [==============================] - 0s 2ms/step - loss: 0.4316 - accuracy: 0.8159\n",
      "Epoch 282/300\n",
      "26/26 [==============================] - 0s 3ms/step - loss: 0.3689 - accuracy: 0.8390\n",
      "Epoch 283/300\n",
      "26/26 [==============================] - 0s 3ms/step - loss: 0.3961 - accuracy: 0.8232\n",
      "Epoch 284/300\n",
      "26/26 [==============================] - 0s 2ms/step - loss: 0.3870 - accuracy: 0.8451\n",
      "Epoch 285/300\n",
      "26/26 [==============================] - 0s 3ms/step - loss: 0.3852 - accuracy: 0.8256\n",
      "Epoch 286/300\n",
      "26/26 [==============================] - 0s 2ms/step - loss: 0.4473 - accuracy: 0.8024\n",
      "Epoch 287/300\n",
      "26/26 [==============================] - 0s 2ms/step - loss: 0.3864 - accuracy: 0.8390\n",
      "Epoch 288/300\n",
      "26/26 [==============================] - 0s 2ms/step - loss: 0.3775 - accuracy: 0.8390\n",
      "Epoch 289/300\n",
      "26/26 [==============================] - 0s 2ms/step - loss: 0.4254 - accuracy: 0.8146\n",
      "Epoch 290/300\n",
      "26/26 [==============================] - 0s 2ms/step - loss: 0.3815 - accuracy: 0.8402\n",
      "Epoch 291/300\n",
      "26/26 [==============================] - 0s 2ms/step - loss: 0.3858 - accuracy: 0.8220\n",
      "Epoch 292/300\n",
      "26/26 [==============================] - 0s 3ms/step - loss: 0.3742 - accuracy: 0.8524\n",
      "Epoch 293/300\n",
      "26/26 [==============================] - 0s 2ms/step - loss: 0.3852 - accuracy: 0.8268\n",
      "Epoch 294/300\n",
      "26/26 [==============================] - 0s 3ms/step - loss: 0.3852 - accuracy: 0.8329\n",
      "Epoch 295/300\n",
      "26/26 [==============================] - 0s 3ms/step - loss: 0.3807 - accuracy: 0.8317\n",
      "Epoch 296/300\n",
      "26/26 [==============================] - 0s 3ms/step - loss: 0.3758 - accuracy: 0.8463\n",
      "Epoch 297/300\n",
      "26/26 [==============================] - 0s 2ms/step - loss: 0.3688 - accuracy: 0.8402\n",
      "Epoch 298/300\n",
      "26/26 [==============================] - 0s 2ms/step - loss: 0.3831 - accuracy: 0.8378\n",
      "Epoch 299/300\n",
      "26/26 [==============================] - 0s 4ms/step - loss: 0.3745 - accuracy: 0.8329\n",
      "Epoch 300/300\n",
      "26/26 [==============================] - 0s 2ms/step - loss: 0.3745 - accuracy: 0.8463\n"
     ]
    },
    {
     "data": {
      "text/plain": [
       "<keras.callbacks.History at 0x7fab29d06070>"
      ]
     },
     "execution_count": 56,
     "metadata": {},
     "output_type": "execute_result"
    }
   ],
   "source": [
    "model.fit(X_train,Y_train,epochs=300)"
   ]
  },
  {
   "cell_type": "code",
   "execution_count": 57,
   "id": "134ab9b5",
   "metadata": {},
   "outputs": [
    {
     "name": "stdout",
     "output_type": "stream",
     "text": [
      "7/7 [==============================] - 0s 2ms/step\n"
     ]
    }
   ],
   "source": [
    "Y_pred_nn = model.predict(X_test)"
   ]
  },
  {
   "cell_type": "code",
   "execution_count": 58,
   "id": "328fa905",
   "metadata": {},
   "outputs": [
    {
     "data": {
      "text/plain": [
       "(205, 1)"
      ]
     },
     "execution_count": 58,
     "metadata": {},
     "output_type": "execute_result"
    }
   ],
   "source": [
    "Y_pred_nn.shape"
   ]
  },
  {
   "cell_type": "code",
   "execution_count": 59,
   "id": "0c2c26bd",
   "metadata": {},
   "outputs": [],
   "source": [
    "rounded = [round(x[0]) for x in Y_pred_nn]\n",
    "\n",
    "Y_pred_nn = rounded"
   ]
  },
  {
   "cell_type": "code",
   "execution_count": 60,
   "id": "19395147",
   "metadata": {},
   "outputs": [
    {
     "name": "stdout",
     "output_type": "stream",
     "text": [
      "The accuracy score achieved using Neural Network is: 85.37 %\n"
     ]
    }
   ],
   "source": [
    "score_nn = round(accuracy_score(Y_pred_nn,Y_test)*100,2)\n",
    "\n",
    "print(\"The accuracy score achieved using Neural Network is: \"+str(score_nn)+\" %\")\n"
   ]
  },
  {
   "cell_type": "code",
   "execution_count": 61,
   "id": "8b305636",
   "metadata": {},
   "outputs": [],
   "source": [
    "from sklearn.metrics import confusion_matrix\n",
    "from sklearn.metrics import ConfusionMatrixDisplay"
   ]
  },
  {
   "cell_type": "code",
   "execution_count": 63,
   "id": "e2acad51",
   "metadata": {},
   "outputs": [
    {
     "data": {
      "image/png": "[encoded data removed]",
      "text/plain": [
       "<Figure size 432x288 with 1 Axes>"
      ]
     },
     "metadata": {
      "needs_background": "light"
     },
     "output_type": "display_data"
    }
   ],
   "source": [
    "from sklearn.metrics import roc_curve\n",
    "fpr, tpr, thresholds = roc_curve(Y_test, Y_pred_nn)\n",
    "plt.plot(fpr,tpr)\n",
    "plt.xlim([0.0, 1.0])\n",
    "plt.ylim([0.0, 1.0])\n",
    "plt.title('ROC curve for Heart disease classifier', fontweight='bold')\n",
    "plt.xlabel('False positive rate (1-Specificity)')\n",
    "plt.ylabel('True positive rate (Sensitivity)')\n",
    "plt.grid(True)"
   ]
  },
  {
   "cell_type": "code",
   "execution_count": null,
   "id": "515298fe",
   "metadata": {},
   "outputs": [],
   "source": []
  }
 ],
 "metadata": {
  "kernelspec": {
   "display_name": "Python 3",
   "language": "python",
   "name": "python3"
  },
  "language_info": {
   "codemirror_mode": {
    "name": "ipython",
    "version": 3
   },
   "file_extension": ".py",
   "mimetype": "text/x-python",
   "name": "python",
   "nbconvert_exporter": "python",
   "pygments_lexer": "ipython3",
   "version": "3.8.8"
  }
 },
 "nbformat": 4,
 "nbformat_minor": 5
}
